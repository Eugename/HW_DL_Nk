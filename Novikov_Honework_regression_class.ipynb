{
 "cells": [
  {
   "cell_type": "markdown",
   "id": "1cedf4bd-f30b-4b09-aa8a-f925a72ecde4",
   "metadata": {},
   "source": [
    "Два блока импорта"
   ]
  },
  {
   "cell_type": "code",
   "execution_count": 10,
   "id": "5001be75-e116-4d6a-9116-b5c44572722d",
   "metadata": {},
   "outputs": [],
   "source": [
    "import warnings\n",
    "warnings.filterwarnings('ignore')\n",
    "from IPython.display import display, clear_output"
   ]
  },
  {
   "cell_type": "code",
   "execution_count": 11,
   "id": "b2e414c3-bc20-45a8-bc3a-0f95f9a6e934",
   "metadata": {
    "tags": []
   },
   "outputs": [],
   "source": [
    "import numpy as np\n",
    "import pandas as pd\n",
    "import torch\n",
    "import matplotlib.pyplot as plt\n",
    "from tqdm import tqdm\n",
    "import glob\n",
    "import cv2\n",
    "from sklearn.model_selection import train_test_split\n",
    "from sklearn.preprocessing import OneHotEncoder\n",
    "from numpy import asarray\n",
    "import tensorflow as tf\n",
    "from tensorflow import keras\n",
    "from tensorflow.keras.preprocessing.image import load_img\n",
    "from tqdm import tqdm\n",
    "from tensorflow.keras import Sequential\n",
    "import scipy\n",
    "from scipy.sparse import csr_matrix"
   ]
  },
  {
   "cell_type": "markdown",
   "id": "d9061b13-1d81-444c-b113-97b07548bdae",
   "metadata": {
    "tags": []
   },
   "source": [
    "# Задание 1 - регрессия. Предсказание цены биткойна #"
   ]
  },
  {
   "cell_type": "markdown",
   "id": "2735e461-9b5f-4fc8-be98-08bfcc68ceb8",
   "metadata": {
    "jp-MarkdownHeadingCollapsed": true,
    "tags": []
   },
   "source": [
    "### Данные ###"
   ]
  },
  {
   "cell_type": "markdown",
   "id": "513d833c-b4b4-4dfc-b009-93da45270c18",
   "metadata": {},
   "source": [
    "Цена биткойна+сделки за несколько лет. Отсюда нужна только итоговая цена, поскольку будет строиться регрессия по ряду."
   ]
  },
  {
   "cell_type": "code",
   "execution_count": 3,
   "id": "74c1af62-2773-490a-b4a9-97c9475ce190",
   "metadata": {},
   "outputs": [],
   "source": [
    "df = pd.read_csv('bitstampUSD_1-min_data_2012-01-01_to_2021-03-31.csv')"
   ]
  },
  {
   "cell_type": "code",
   "execution_count": 4,
   "id": "8dd7c909-fa5f-480d-9561-ecc6ce11dca9",
   "metadata": {},
   "outputs": [],
   "source": [
    "df.dropna(inplace = True)"
   ]
  },
  {
   "cell_type": "markdown",
   "id": "6a9266e8-dc23-45ec-93ce-b012100c5996",
   "metadata": {},
   "source": [
    "Предсказываться будет временной ряд, будет использоваться только одна переменная Weighted_Price"
   ]
  },
  {
   "cell_type": "code",
   "execution_count": 6,
   "id": "0598184c-87e4-404a-a3cb-1b7bd47898a5",
   "metadata": {},
   "outputs": [
    {
     "data": {
      "text/plain": [
       "0              4.390000\n",
       "478            4.390000\n",
       "547            4.526411\n",
       "548            4.580000\n",
       "1224           4.580000\n",
       "               ...     \n",
       "4857372    58692.753339\n",
       "4857373    58693.226508\n",
       "4857374    58696.198496\n",
       "4857375    58761.866202\n",
       "4857376    58764.349363\n",
       "Name: Weighted_Price, Length: 3613769, dtype: float64"
      ]
     },
     "execution_count": 6,
     "metadata": {},
     "output_type": "execute_result"
    }
   ],
   "source": [
    "df['Weighted_Price']"
   ]
  },
  {
   "cell_type": "code",
   "execution_count": 7,
   "id": "052fe0c7-00ae-419f-b979-3d0ea3b19ce0",
   "metadata": {},
   "outputs": [],
   "source": [
    "n_x = 500 # количество иксов\n",
    "n_y = 20 # количесатво игреков для предсказания"
   ]
  },
  {
   "cell_type": "markdown",
   "id": "775708ea-e724-45a8-8399-54fa674e1c00",
   "metadata": {},
   "source": [
    "Функция ниже вернет промежутки для обучения X - по 1000 значений, игреки - по 50 значений.\n",
    "\n",
    "Другими словами, нейронка будет учиться предсказывать 50 следующих значений по 1000 предыдущих."
   ]
  },
  {
   "cell_type": "code",
   "execution_count": 8,
   "id": "119ef849-df85-40cd-b9fe-6a2b214e3918",
   "metadata": {},
   "outputs": [],
   "source": [
    "def return_XY(data, start_idx, final_index, x_interval, y_interval):\n",
    "    \"\"\"data - univatiate\"\"\"\n",
    "    data = np.array(data)\n",
    "    X = []\n",
    "    Y = []\n",
    "    for i in range(start_idx, start_idx + final_index, 1):\n",
    "        X.append(data[i:i + x_interval])\n",
    "        Y.append(data[i + x_interval:i + x_interval + y_interval])\n",
    "    return X,Y"
   ]
  },
  {
   "cell_type": "code",
   "execution_count": 9,
   "id": "5215e3fc-95fa-4f34-ac3d-bf997b6d5d89",
   "metadata": {},
   "outputs": [],
   "source": [
    "X, y = return_XY(df['Weighted_Price'], start_idx = 0, final_index = 100000 , x_interval = n_x, y_interval = n_y)\n",
    "# выборка из 100000 измерений (в каждом - n_x значений + n_y игреков)"
   ]
  },
  {
   "cell_type": "code",
   "execution_count": 10,
   "id": "707c7027-590a-4769-922e-499e65213f51",
   "metadata": {},
   "outputs": [
    {
     "data": {
      "text/plain": [
       "(100000, 100000)"
      ]
     },
     "execution_count": 10,
     "metadata": {},
     "output_type": "execute_result"
    }
   ],
   "source": [
    "len(X), len(y)"
   ]
  },
  {
   "cell_type": "code",
   "execution_count": 11,
   "id": "74c15bd5-7b7b-42e3-b851-05082f004204",
   "metadata": {},
   "outputs": [
    {
     "data": {
      "text/plain": [
       "Text(0.5, 1.0, 'time/price')"
      ]
     },
     "execution_count": 11,
     "metadata": {},
     "output_type": "execute_result"
    },
    {
     "data": {
      "image/png": "[encoded data removed]",
      "text/plain": [
       "<Figure size 432x288 with 1 Axes>"
      ]
     },
     "metadata": {
      "needs_background": "light"
     },
     "output_type": "display_data"
    }
   ],
   "source": [
    "plt.plot(X[0])\n",
    "plt.plot(np.concatenate([X[0], y[0]])+0.1)\n",
    "plt.legend(['true','true+future'])\n",
    "plt.xlabel('time')\n",
    "plt.ylabel('Price')\n",
    "plt.title('time/price')"
   ]
  },
  {
   "cell_type": "markdown",
   "id": "72f0f63a-b01e-4357-8eab-dcf07336d96d",
   "metadata": {
    "jp-MarkdownHeadingCollapsed": true,
    "tags": []
   },
   "source": [
    "### Простая нейросеть с полносвязными слоями без наворотов (pytorch) ###"
   ]
  },
  {
   "cell_type": "code",
   "execution_count": 21,
   "id": "b1c54623-cc1f-4a35-bcaa-7953c4523e49",
   "metadata": {},
   "outputs": [
    {
     "data": {
      "text/plain": [
       "True"
      ]
     },
     "execution_count": 21,
     "metadata": {},
     "output_type": "execute_result"
    }
   ],
   "source": [
    "torch.cuda.is_available()"
   ]
  },
  {
   "cell_type": "markdown",
   "id": "78d6830e-69f0-4093-bf44-346cb0396eb0",
   "metadata": {},
   "source": [
    "Нейронку сделал на торче"
   ]
  },
  {
   "cell_type": "code",
   "execution_count": 23,
   "id": "9a646630-93a2-4059-bef8-c24c3cc14254",
   "metadata": {
    "tags": []
   },
   "outputs": [],
   "source": [
    "class Net(torch.nn.Module):\n",
    "    def __init__(self, n_hidden_neurons):\n",
    "        super(Net, self).__init__()\n",
    "        # слои\n",
    "        self.input_d = torch.nn.Linear(n_x, n_hidden_neurons)\n",
    "        self.lrelu = torch.nn.LeakyReLU()\n",
    "        self.output_d = torch.nn.Linear(n_hidden_neurons, n_y)\n",
    "        \n",
    "    def forward(self, x):\n",
    "        x = self.input_d(x)\n",
    "        x = self.lrelu(x)\n",
    "        x = self.output_d(x)\n",
    "        return x\n",
    "my_net = Net(10)"
   ]
  },
  {
   "cell_type": "code",
   "execution_count": 24,
   "id": "2a6f586f-753c-446f-b16b-d8361f27f00d",
   "metadata": {},
   "outputs": [],
   "source": [
    "device = torch.device('cuda:0' if torch.cuda.is_available() else 'cpu')\n",
    "my_net = my_net.to(device) # сетку в видеокарту"
   ]
  },
  {
   "cell_type": "code",
   "execution_count": 25,
   "id": "14b19237-1729-4f32-88a5-95dc2df65a0f",
   "metadata": {},
   "outputs": [],
   "source": [
    "loss = torch.nn.MSELoss()\n",
    "optimizer = torch.optim.Adam(my_net.parameters())"
   ]
  },
  {
   "cell_type": "code",
   "execution_count": 26,
   "id": "78bce0a1-157b-4c74-abb5-164c39005741",
   "metadata": {},
   "outputs": [],
   "source": [
    "scheduler = torch.optim.lr_scheduler.ReduceLROnPlateau(optimizer, mode='min',\n",
    "                                                       factor=0.5, patience=5, \n",
    "                                                       threshold=0.001, threshold_mode='abs')\n",
    "# т.е. если loss в течение patience = 5 эпох не будет меняться сильнее, чем 0.001, то lr делится на 2"
   ]
  },
  {
   "cell_type": "code",
   "execution_count": 27,
   "id": "1d2721d1-31d2-452c-bb00-a16ef7a042f1",
   "metadata": {},
   "outputs": [
    {
     "data": {
      "text/plain": [
       "Net(\n",
       "  (input_d): Linear(in_features=500, out_features=10, bias=True)\n",
       "  (lrelu): LeakyReLU(negative_slope=0.01)\n",
       "  (output_d): Linear(in_features=10, out_features=20, bias=True)\n",
       ")"
      ]
     },
     "execution_count": 27,
     "metadata": {},
     "output_type": "execute_result"
    }
   ],
   "source": [
    "my_net.train(mode = True) # перевод в режим обучения"
   ]
  },
  {
   "cell_type": "markdown",
   "id": "26145705-c730-4ae7-b6ac-77fcf6348fb1",
   "metadata": {},
   "source": [
    "Функция для обучения. Смешивать данные не стал."
   ]
  },
  {
   "cell_type": "code",
   "execution_count": 28,
   "id": "62f2f352-37a1-4c16-970c-2555a293d41e",
   "metadata": {},
   "outputs": [],
   "source": [
    "def fit_model(X_train, y_train, X_val = None, y_val = None, epochs = 10, batch_size = 16, verbose = 0):\n",
    "    X_train = X_train.to(device)\n",
    "    y_train = y_train.to(device)\n",
    "    if ((X_val != None) and (y_val != None) ):\n",
    "        X_val = X_val.to(device)\n",
    "        y_val = y_val.to(device)\n",
    "    loss_train = []\n",
    "    loss_val = []\n",
    "    for _ in zip(tqdm(range(epochs)), range(epochs)):\n",
    "        for idx in range(0, len(X_train), batch_size):\n",
    "            optimizer.zero_grad()\n",
    "            X_batch = X_train[idx:idx+batch_size]\n",
    "            y_batch = y_train[idx:idx+batch_size]\n",
    "            #print(X_batch.shape, y_batch.shape)\n",
    "            predictions = my_net.forward(X_batch)\n",
    "            loss_ = loss(y_batch, predictions)\n",
    "            loss_.backward()\n",
    "            optimizer.step()\n",
    "        \n",
    "        train_preds = my_net.forward(X_train)\n",
    "        temp_loss_train = loss(train_preds, y_train)\n",
    "        loss_train.append( temp_loss_train )\n",
    "        if ( (X_val != None) and (y_val != None) ):\n",
    "            val_preds = my_net.forward(X_val)\n",
    "            loss_val.append(loss(val_preds, y_val))\n",
    "        \n",
    "        if (verbose == 1):\n",
    "            #clear_output()\n",
    "            print (temp_loss_train)\n",
    "            \n",
    "    if (len(loss_val)>0):\n",
    "        return loss_train, loss_val\n",
    "    else: \n",
    "        return loss_train"
   ]
  },
  {
   "cell_type": "code",
   "execution_count": 29,
   "id": "95b93c36-ccdb-42b0-832c-9b1ce120de8f",
   "metadata": {},
   "outputs": [],
   "source": [
    "# преобразование данных в торчевские тензоры\n",
    "X_t = torch.FloatTensor(X[:90000])\n",
    "y_t = torch.FloatTensor(y[:90000])"
   ]
  },
  {
   "cell_type": "code",
   "execution_count": 30,
   "id": "472054aa-7bc8-447f-b032-8383854895da",
   "metadata": {},
   "outputs": [
    {
     "data": {
      "text/plain": [
       "(torch.Size([90000, 500]), torch.Size([90000, 20]))"
      ]
     },
     "execution_count": 30,
     "metadata": {},
     "output_type": "execute_result"
    }
   ],
   "source": [
    "X_t.shape, y_t.shape"
   ]
  },
  {
   "cell_type": "code",
   "execution_count": 31,
   "id": "ca20360e-9752-4167-9536-0d36acb90b59",
   "metadata": {},
   "outputs": [
    {
     "name": "stderr",
     "output_type": "stream",
     "text": [
      "  7%|██▊                                        | 1/15 [00:06<01:24,  6.06s/it]"
     ]
    },
    {
     "name": "stdout",
     "output_type": "stream",
     "text": [
      "tensor(99.1037, device='cuda:0', grad_fn=<MseLossBackward0>)\n"
     ]
    },
    {
     "name": "stderr",
     "output_type": "stream",
     "text": [
      " 13%|█████▋                                     | 2/15 [00:07<00:42,  3.29s/it]"
     ]
    },
    {
     "name": "stdout",
     "output_type": "stream",
     "text": [
      "tensor(71.0144, device='cuda:0', grad_fn=<MseLossBackward0>)\n"
     ]
    },
    {
     "name": "stderr",
     "output_type": "stream",
     "text": [
      " 20%|████████▌                                  | 3/15 [00:08<00:28,  2.41s/it]"
     ]
    },
    {
     "name": "stdout",
     "output_type": "stream",
     "text": [
      "tensor(53.1511, device='cuda:0', grad_fn=<MseLossBackward0>)\n"
     ]
    },
    {
     "name": "stderr",
     "output_type": "stream",
     "text": [
      " 27%|███████████▍                               | 4/15 [00:10<00:22,  2.01s/it]"
     ]
    },
    {
     "name": "stdout",
     "output_type": "stream",
     "text": [
      "tensor(42.0749, device='cuda:0', grad_fn=<MseLossBackward0>)\n"
     ]
    },
    {
     "name": "stderr",
     "output_type": "stream",
     "text": [
      " 33%|██████████████▎                            | 5/15 [00:11<00:17,  1.77s/it]"
     ]
    },
    {
     "name": "stdout",
     "output_type": "stream",
     "text": [
      "tensor(37.2721, device='cuda:0', grad_fn=<MseLossBackward0>)\n"
     ]
    },
    {
     "name": "stderr",
     "output_type": "stream",
     "text": [
      " 40%|█████████████████▏                         | 6/15 [00:12<00:14,  1.64s/it]"
     ]
    },
    {
     "name": "stdout",
     "output_type": "stream",
     "text": [
      "tensor(44.6623, device='cuda:0', grad_fn=<MseLossBackward0>)\n"
     ]
    },
    {
     "name": "stderr",
     "output_type": "stream",
     "text": [
      " 47%|████████████████████                       | 7/15 [00:14<00:12,  1.57s/it]"
     ]
    },
    {
     "name": "stdout",
     "output_type": "stream",
     "text": [
      "tensor(50.9442, device='cuda:0', grad_fn=<MseLossBackward0>)\n"
     ]
    },
    {
     "name": "stderr",
     "output_type": "stream",
     "text": [
      " 53%|██████████████████████▉                    | 8/15 [00:15<00:10,  1.50s/it]"
     ]
    },
    {
     "name": "stdout",
     "output_type": "stream",
     "text": [
      "tensor(38.8524, device='cuda:0', grad_fn=<MseLossBackward0>)\n"
     ]
    },
    {
     "name": "stderr",
     "output_type": "stream",
     "text": [
      " 60%|█████████████████████████▊                 | 9/15 [00:17<00:08,  1.47s/it]"
     ]
    },
    {
     "name": "stdout",
     "output_type": "stream",
     "text": [
      "tensor(30.7281, device='cuda:0', grad_fn=<MseLossBackward0>)\n"
     ]
    },
    {
     "name": "stderr",
     "output_type": "stream",
     "text": [
      " 67%|████████████████████████████              | 10/15 [00:18<00:07,  1.46s/it]"
     ]
    },
    {
     "name": "stdout",
     "output_type": "stream",
     "text": [
      "tensor(26.5778, device='cuda:0', grad_fn=<MseLossBackward0>)\n"
     ]
    },
    {
     "name": "stderr",
     "output_type": "stream",
     "text": [
      " 73%|██████████████████████████████▊           | 11/15 [00:20<00:05,  1.48s/it]"
     ]
    },
    {
     "name": "stdout",
     "output_type": "stream",
     "text": [
      "tensor(24.1493, device='cuda:0', grad_fn=<MseLossBackward0>)\n"
     ]
    },
    {
     "name": "stderr",
     "output_type": "stream",
     "text": [
      " 80%|█████████████████████████████████▌        | 12/15 [00:21<00:04,  1.47s/it]"
     ]
    },
    {
     "name": "stdout",
     "output_type": "stream",
     "text": [
      "tensor(22.0364, device='cuda:0', grad_fn=<MseLossBackward0>)\n"
     ]
    },
    {
     "name": "stderr",
     "output_type": "stream",
     "text": [
      " 87%|████████████████████████████████████▍     | 13/15 [00:22<00:02,  1.47s/it]"
     ]
    },
    {
     "name": "stdout",
     "output_type": "stream",
     "text": [
      "tensor(28.9681, device='cuda:0', grad_fn=<MseLossBackward0>)\n"
     ]
    },
    {
     "name": "stderr",
     "output_type": "stream",
     "text": [
      " 93%|███████████████████████████████████████▏  | 14/15 [00:24<00:01,  1.44s/it]"
     ]
    },
    {
     "name": "stdout",
     "output_type": "stream",
     "text": [
      "tensor(22.1578, device='cuda:0', grad_fn=<MseLossBackward0>)\n"
     ]
    },
    {
     "name": "stderr",
     "output_type": "stream",
     "text": [
      "100%|██████████████████████████████████████████| 15/15 [00:25<00:00,  1.72s/it]"
     ]
    },
    {
     "name": "stdout",
     "output_type": "stream",
     "text": [
      "tensor(23.8339, device='cuda:0', grad_fn=<MseLossBackward0>)\n"
     ]
    },
    {
     "name": "stderr",
     "output_type": "stream",
     "text": [
      "\n"
     ]
    }
   ],
   "source": [
    "l_loss = fit_model(X_t, y_t, epochs = 15, batch_size = 64, verbose = 1)"
   ]
  },
  {
   "cell_type": "code",
   "execution_count": 32,
   "id": "141e38e9-4a77-4776-8fde-80a3ccf5b1cd",
   "metadata": {
    "tags": []
   },
   "outputs": [
    {
     "data": {
      "text/plain": [
       "[<matplotlib.lines.Line2D at 0x26003d5b080>]"
      ]
     },
     "execution_count": 32,
     "metadata": {},
     "output_type": "execute_result"
    },
    {
     "data": {
      "image/png": "[encoded data removed]",
      "text/plain": [
       "<Figure size 432x288 with 1 Axes>"
      ]
     },
     "metadata": {
      "needs_background": "light"
     },
     "output_type": "display_data"
    }
   ],
   "source": [
    "l_loss = [i.cpu().detach().numpy() for i in l_loss]\n",
    "# лосс в оперативную память для визуализации\n",
    "plt.plot(l_loss)\n",
    "plt.xlabel('Эпохи')\n",
    "plt.ylabel('Потери')"
   ]
  },
  {
   "cell_type": "code",
   "execution_count": 34,
   "id": "1ec30f52-0692-4bc6-8152-8aa55df2977e",
   "metadata": {},
   "outputs": [],
   "source": [
    "# предсказание на n_y шагов\n",
    "pr = my_net.forward( torch.FloatTensor(X[-1]).to(device) )"
   ]
  },
  {
   "cell_type": "code",
   "execution_count": 35,
   "id": "6a9adbbb-cf0e-4fba-85c5-bcbac2e6aa0b",
   "metadata": {
    "collapsed": true,
    "jupyter": {
     "outputs_hidden": true
    },
    "tags": []
   },
   "outputs": [
    {
     "data": {
      "text/plain": [
       "array([117.49028545, 117.5       , 117.4906383 , 117.5       ,\n",
       "       117.5       , 117.49015102, 117.49017398, 117.53      ,\n",
       "       117.52152542, 117.52      , 117.5268811 , 117.53328008,\n",
       "       117.52666667, 117.53966538, 117.54      , 117.53975322,\n",
       "       117.54      , 117.525     , 117.54      , 117.5319499 ])"
      ]
     },
     "execution_count": 35,
     "metadata": {},
     "output_type": "execute_result"
    }
   ],
   "source": [
    "y[-1]"
   ]
  },
  {
   "cell_type": "code",
   "execution_count": 37,
   "id": "e1bb621d-1c8f-415d-83d7-ba0b084add60",
   "metadata": {},
   "outputs": [
    {
     "data": {
      "text/plain": [
       "Text(0.5, 1.0, 'time/price')"
      ]
     },
     "execution_count": 37,
     "metadata": {},
     "output_type": "execute_result"
    },
    {
     "data": {
      "image/png": "[encoded data removed]",
      "text/plain": [
       "<Figure size 432x288 with 1 Axes>"
      ]
     },
     "metadata": {
      "needs_background": "light"
     },
     "output_type": "display_data"
    }
   ],
   "source": [
    "pred = list(X[-1]) + list(pr.cpu().detach().numpy())\n",
    "true = list(X[-1]) + list(y[-1])\n",
    "plt.plot(range(len(pred)), pred)\n",
    "plt.plot(range(len(true)), true)\n",
    "plt.legend(['pred','true'])\n",
    "plt.xlabel('time')\n",
    "plt.ylabel('Price')\n",
    "plt.title('time/price')"
   ]
  },
  {
   "cell_type": "markdown",
   "id": "c1708de3-da9c-469a-96a2-5fc5e174c588",
   "metadata": {
    "jp-MarkdownHeadingCollapsed": true,
    "tags": []
   },
   "source": [
    "### LSTM (pytorch) ###"
   ]
  },
  {
   "cell_type": "markdown",
   "id": "662b8486-b63b-4c9b-975c-14a7124b158e",
   "metadata": {},
   "source": [
    "Попробовал использовать LSTM-ячейки"
   ]
  },
  {
   "cell_type": "code",
   "execution_count": 12,
   "id": "bd6e7c82-fbc3-4e80-8c31-3471c486c60d",
   "metadata": {},
   "outputs": [],
   "source": [
    "n_x = 500\n",
    "n_y = 70"
   ]
  },
  {
   "cell_type": "code",
   "execution_count": 13,
   "id": "f1534bb0-2e50-47e8-9c0a-0eaeae5ce0c4",
   "metadata": {},
   "outputs": [],
   "source": [
    "X, y = return_XY(df['Weighted_Price'], start_idx = 0, final_index = 10000 , x_interval = n_x, y_interval = n_y)"
   ]
  },
  {
   "cell_type": "code",
   "execution_count": 14,
   "id": "617cd489-ac51-45ac-a9e7-ec0858dc8e27",
   "metadata": {},
   "outputs": [],
   "source": [
    "# преобразование данных в торчевские тензоры\n",
    "X_t = torch.FloatTensor(X[:9000])\n",
    "y_t = torch.FloatTensor(y[:9000])"
   ]
  },
  {
   "cell_type": "code",
   "execution_count": 15,
   "id": "868afad0-da85-424e-8cb4-155f9559b262",
   "metadata": {},
   "outputs": [],
   "source": [
    "class LSTMNet(torch.nn.Module):\n",
    "    def __init__(self, n_x, n_hidden_neurons):\n",
    "        super(LSTMNet, self).__init__()\n",
    "        self.input_d = torch.nn.LSTM(n_x, n_hidden_neurons, batch_first=True)\n",
    "        self.lrelu = torch.nn.LeakyReLU()\n",
    "        self.output_d = torch.nn.Linear(n_hidden_neurons, n_y)\n",
    "        \n",
    "    def forward(self, x):\n",
    "        x, _ = self.input_d(x)\n",
    "        x = self.lrelu(x)\n",
    "        x = self.output_d(x)\n",
    "        return x"
   ]
  },
  {
   "cell_type": "code",
   "execution_count": 16,
   "id": "2c77a8a7-f322-4cae-abba-c9d7c7a8f605",
   "metadata": {},
   "outputs": [
    {
     "data": {
      "text/plain": [
       "LSTMNet(\n",
       "  (input_d): LSTM(500, 500, batch_first=True)\n",
       "  (lrelu): LeakyReLU(negative_slope=0.01)\n",
       "  (output_d): Linear(in_features=500, out_features=70, bias=True)\n",
       ")"
      ]
     },
     "execution_count": 16,
     "metadata": {},
     "output_type": "execute_result"
    }
   ],
   "source": [
    "net2 = LSTMNet(n_x, n_x)\n",
    "loss = torch.nn.MSELoss()\n",
    "optimizer_2 = torch.optim.Adam(net2.parameters())\n",
    "net2.train(mode = True)"
   ]
  },
  {
   "cell_type": "code",
   "execution_count": 17,
   "id": "04d0d83a-46a8-4a21-9b9d-0ab2dc011e07",
   "metadata": {},
   "outputs": [],
   "source": [
    "device = torch.device('cuda:0' if torch.cuda.is_available() else 'cpu')\n",
    "net2 = net2.to(device) # сетку в видеокарту"
   ]
  },
  {
   "cell_type": "code",
   "execution_count": 18,
   "id": "6a500b51-f3b9-4442-a833-6a17aff06b3b",
   "metadata": {},
   "outputs": [],
   "source": [
    "# для LSTM нужны свои размерности\n",
    "#X_tr_reshape = torch.reshape(X_t,   (X_t.shape[0], 1, X_t.shape[1]))\n",
    "#y_tr_reshape = torch.reshape(y_t,   (y_t.shape[0], 1, y_t.shape[1]))\n",
    "# можно было так\n",
    "# X_t.view(1, X_t.shape[0], X_t.shape[1]\n",
    "\n",
    "X_tr_reshape = X_t.view(X_t.shape[0], 1, X_t.shape[1])\n",
    "y_tr_reshape = y_t.view(y_t.shape[0], 1, y_t.shape[1])"
   ]
  },
  {
   "cell_type": "code",
   "execution_count": 19,
   "id": "6dbd5d39-ca41-4a17-a014-2fdaab6163a5",
   "metadata": {},
   "outputs": [
    {
     "data": {
      "text/plain": [
       "(torch.Size([9000, 1, 500]), torch.Size([9000, 1, 70]))"
      ]
     },
     "execution_count": 19,
     "metadata": {},
     "output_type": "execute_result"
    }
   ],
   "source": [
    "X_tr_reshape.shape, y_tr_reshape.shape"
   ]
  },
  {
   "cell_type": "markdown",
   "id": "e006dccc-ed97-4899-9d03-8e5d76c65329",
   "metadata": {},
   "source": [
    "Немного более простая функция для обучения"
   ]
  },
  {
   "cell_type": "code",
   "execution_count": 20,
   "id": "5372d5ac-b30c-4ab6-be9d-e7e7c5f7ee4f",
   "metadata": {},
   "outputs": [],
   "source": [
    "def fit_model_LSTM(X_train, y_train, X_val = None, y_val = None, epochs = 40, batch_size = 64, verbose = 0):\n",
    "    loss_train = []\n",
    "    X_train = X_train.to(device)\n",
    "    y_train = y_train.to(device)\n",
    "    for _ in zip(tqdm(range(epochs)), range(epochs)):\n",
    "        for idx in range(0, len(X_train), batch_size):\n",
    "            optimizer_2.zero_grad()\n",
    "            X_batch = X_train[idx:idx+batch_size]\n",
    "            y_batch = y_train[idx:idx+batch_size]\n",
    "            predictions = net2.forward(X_batch)\n",
    "            loss_value = loss(y_batch, predictions)\n",
    "            loss_value.backward()\n",
    "            optimizer_2.step()\n",
    "        \n",
    "        train_preds = net2.forward(X_train)\n",
    "        temp_loss = loss(train_preds, y_train)\n",
    "        loss_train.append( temp_loss )\n",
    "        if (verbose == 1):\n",
    "            print(temp_loss)\n",
    "    return loss_train"
   ]
  },
  {
   "cell_type": "code",
   "execution_count": 24,
   "id": "a3a5da56-df70-4b7a-958d-5375687c4b17",
   "metadata": {
    "tags": []
   },
   "outputs": [
    {
     "name": "stderr",
     "output_type": "stream",
     "text": [
      " 20%|████████▊                                   | 1/5 [00:00<00:00,  4.01it/s]"
     ]
    },
    {
     "name": "stdout",
     "output_type": "stream",
     "text": [
      "tensor(20.3739, device='cuda:0', grad_fn=<MseLossBackward0>)\n"
     ]
    },
    {
     "name": "stderr",
     "output_type": "stream",
     "text": [
      " 40%|█████████████████▌                          | 2/5 [00:00<00:00,  4.06it/s]"
     ]
    },
    {
     "name": "stdout",
     "output_type": "stream",
     "text": [
      "tensor(20.4190, device='cuda:0', grad_fn=<MseLossBackward0>)\n"
     ]
    },
    {
     "name": "stderr",
     "output_type": "stream",
     "text": [
      " 60%|██████████████████████████▍                 | 3/5 [00:00<00:00,  4.08it/s]"
     ]
    },
    {
     "name": "stdout",
     "output_type": "stream",
     "text": [
      "tensor(19.9637, device='cuda:0', grad_fn=<MseLossBackward0>)\n"
     ]
    },
    {
     "name": "stderr",
     "output_type": "stream",
     "text": [
      " 80%|███████████████████████████████████▏        | 4/5 [00:00<00:00,  3.99it/s]"
     ]
    },
    {
     "name": "stdout",
     "output_type": "stream",
     "text": [
      "tensor(19.6537, device='cuda:0', grad_fn=<MseLossBackward0>)\n"
     ]
    },
    {
     "name": "stderr",
     "output_type": "stream",
     "text": [
      "100%|████████████████████████████████████████████| 5/5 [00:01<00:00,  3.84it/s]"
     ]
    },
    {
     "name": "stdout",
     "output_type": "stream",
     "text": [
      "tensor(19.4542, device='cuda:0', grad_fn=<MseLossBackward0>)\n"
     ]
    },
    {
     "name": "stderr",
     "output_type": "stream",
     "text": [
      "\n"
     ]
    }
   ],
   "source": [
    "loss_lstm = fit_model_LSTM(X_tr_reshape, y_tr_reshape, epochs = 5,  batch_size = 64, verbose = 1)"
   ]
  },
  {
   "cell_type": "code",
   "execution_count": 25,
   "id": "ce02cb20-58b1-4a30-8f7d-fc29621700d3",
   "metadata": {},
   "outputs": [
    {
     "data": {
      "text/plain": [
       "torch.Size([9000, 500])"
      ]
     },
     "execution_count": 25,
     "metadata": {},
     "output_type": "execute_result"
    }
   ],
   "source": [
    "X_t.shape"
   ]
  },
  {
   "cell_type": "code",
   "execution_count": 27,
   "id": "74bb62cd-9e5d-47aa-b939-a4c7a85fd716",
   "metadata": {},
   "outputs": [
    {
     "data": {
      "text/plain": [
       "Text(0, 0.5, 'Потери')"
      ]
     },
     "execution_count": 27,
     "metadata": {},
     "output_type": "execute_result"
    },
    {
     "data": {
      "image/png": "[encoded data removed]",
      "text/plain": [
       "<Figure size 432x288 with 1 Axes>"
      ]
     },
     "metadata": {
      "needs_background": "light"
     },
     "output_type": "display_data"
    }
   ],
   "source": [
    "loss_lstm = [i.cpu().detach().numpy() for i in loss_lstm]\n",
    "plt.plot(loss_lstm)\n",
    "plt.xlabel('Эпохи')\n",
    "plt.ylabel('Потери')"
   ]
  },
  {
   "cell_type": "code",
   "execution_count": 28,
   "id": "d8a136d0-0e4c-41e0-bd54-03604fc0e99b",
   "metadata": {
    "collapsed": true,
    "jupyter": {
     "outputs_hidden": true
    },
    "tags": []
   },
   "outputs": [
    {
     "data": {
      "text/plain": [
       "tensor([[[10.0300,  9.4500,  9.4500,  9.4500,  9.4500,  9.4500,  9.4500,\n",
       "           9.4100,  9.3313,  9.3300,  9.3700,  9.3300,  9.3200,  9.3996,\n",
       "           9.3200,  9.3700,  9.7900,  9.6300,  9.6200,  9.3500,  9.3300,\n",
       "           9.3300,  9.3300,  9.3300,  9.3200,  9.4000,  9.4300,  9.4300,\n",
       "           9.3734,  9.4495,  9.3300,  9.5500,  9.5500,  9.6000,  9.6300,\n",
       "           9.5900,  9.8000,  9.8000,  9.6900,  9.6900,  9.7900,  9.7900,\n",
       "           9.7900,  9.7900,  9.9901,  9.5200,  9.3200,  9.3200,  9.3200,\n",
       "           9.3052,  9.3000,  9.2992,  9.0619,  8.9100,  8.9000,  8.8800,\n",
       "           8.8800,  8.8500,  8.8300,  8.8112,  8.8100,  8.7994,  8.7822,\n",
       "           8.7000,  8.6800,  8.6700,  8.6600,  8.6200,  8.6005,  8.6000,\n",
       "           8.5400,  8.9000,  8.5197,  8.5000,  8.4206,  8.3600,  8.2000,\n",
       "           8.2000,  8.1000,  8.0100,  8.0000,  8.6000,  8.0300,  8.5900,\n",
       "           8.0900,  8.5700,  8.1357,  8.0000,  8.5700,  7.8700,  7.8289,\n",
       "           8.5700,  7.8800,  7.9900,  7.9029,  8.5700,  8.5700,  7.9300,\n",
       "           7.9300,  7.9100,  8.0000,  7.9000,  7.9200,  7.9500,  7.9700,\n",
       "           7.9900,  7.9919,  8.0900,  8.0900,  7.9200,  7.8076,  8.0900,\n",
       "           8.1000,  8.1000,  8.1000,  8.1000,  7.6400,  7.6400,  7.6400,\n",
       "           7.6400,  7.5200,  7.2634,  7.6400,  7.6400,  7.6400,  7.6400,\n",
       "           7.6400,  7.6400,  7.6400,  7.6400,  7.6400,  7.6400,  7.6500,\n",
       "           7.6500,  7.6500,  7.6500,  7.6500,  7.6500,  8.0700,  8.0046,\n",
       "           7.9500,  7.9500,  7.9492,  7.8600,  7.9500,  7.9500,  7.9500,\n",
       "           7.9500,  7.9500,  7.9500,  7.9500,  7.9500,  7.9500,  7.9500,\n",
       "           7.9500,  7.9500,  7.9500,  7.9500,  7.9500,  7.9500,  7.9500,\n",
       "           7.9500,  7.9500,  7.9500,  8.1468,  8.3198,  8.5800,  8.7000,\n",
       "           8.8000,  8.9000,  9.0000,  9.1000,  9.2000,  9.2900,  8.8000,\n",
       "           8.9300,  8.9400,  8.9400,  9.0078,  9.0600,  9.0900,  9.2000,\n",
       "           9.2227,  9.4000,  9.4700,  9.4700,  9.4700,  9.4700,  9.5200,\n",
       "           9.7900,  9.7900, 10.0000,  9.7500,  9.6206,  9.6084,  9.5400,\n",
       "           9.5600,  9.5555,  9.6200, 10.1084, 10.2100, 10.2567, 10.3000,\n",
       "           9.3100,  9.3700,  9.7600,  9.6500,  9.9300, 10.3000, 10.3000,\n",
       "          10.3000,  9.9300, 10.3300, 10.2400, 10.2200,  9.9200,  9.6284,\n",
       "           9.8000,  9.7400,  9.6000,  9.6287,  9.6500,  9.6500,  9.4200,\n",
       "           9.6500,  9.6500,  9.6500,  9.6500,  9.3700,  9.6500,  9.5500,\n",
       "           9.5900,  9.5000,  9.5900,  9.5000,  9.5000,  9.5200,  9.5200,\n",
       "           9.5200,  9.5200,  9.5000,  9.3700,  9.3500,  9.3271,  9.2040,\n",
       "           9.2000,  8.9548,  8.9416,  8.8900,  8.8600,  8.8600,  9.2586,\n",
       "           9.5500,  9.5015,  9.4850,  9.5100,  9.4400,  9.4150,  8.9600,\n",
       "           9.4000,  9.3900,  9.3900,  9.3900,  9.4000,  9.4300,  9.4776,\n",
       "           9.5100,  9.6452,  9.7000,  9.4500,  9.4700,  9.9800,  9.8600,\n",
       "           9.7000,  9.6100,  9.4100,  9.6600,  9.6600,  9.3418,  9.5000,\n",
       "           9.7600,  9.8000,  9.7500,  9.8000,  9.8000,  9.8000,  9.8000,\n",
       "           9.8900,  9.9778, 10.0500,  9.7900,  9.7900,  9.8102,  9.8100,\n",
       "           9.6320,  9.5589,  9.5600,  9.5600,  9.5600,  9.5740,  9.9200,\n",
       "           9.9500, 10.0000, 10.0000,  9.9300,  9.7800,  9.7800,  9.7800,\n",
       "          10.0000, 10.2000, 10.1200, 10.2500, 10.0400, 10.0400,  9.9400,\n",
       "           9.8544, 10.3500,  9.7700,  9.7198, 10.1900, 10.3100,  9.6400,\n",
       "          10.0000, 10.3100, 10.1500, 10.1600, 10.2400,  9.9900,  9.9000,\n",
       "           9.9900,  9.9800,  9.9800,  9.9000,  9.8700,  9.8638,  9.9900,\n",
       "           9.9900,  9.9900,  9.9900,  9.9900,  9.9900,  9.9900,  9.9900,\n",
       "           9.9900,  9.9900,  9.9900,  9.8400,  9.9800,  9.9800,  9.9900,\n",
       "           9.8000,  9.8300,  9.8648,  9.8600,  9.8600,  9.8700,  9.9900,\n",
       "           9.9900, 10.0000,  9.9900, 10.0000, 10.0000, 10.0000, 10.0000,\n",
       "          10.0000, 10.1500, 10.0746, 10.1500, 10.1500, 10.1500, 10.1613,\n",
       "          10.1500, 10.1646, 10.1500, 10.1533, 10.1607, 10.1500, 10.1500,\n",
       "          10.1500, 10.2000, 10.2000, 10.2000, 10.2998, 10.2000, 10.2000,\n",
       "          10.2000, 10.2000, 10.2000, 10.1500, 10.3400, 10.1200, 10.1100,\n",
       "          10.3046, 10.3993, 10.3967, 10.4000, 10.3998, 10.2100, 10.2592,\n",
       "          10.3600, 10.0700, 10.3500, 10.2600, 10.1500, 10.1500, 10.2000,\n",
       "          10.2000, 10.1500, 10.3700, 10.0600,  9.9649,  9.9700,  9.9700,\n",
       "           9.9700, 10.3600, 10.3600, 10.3600, 10.3000, 10.2000, 10.2000,\n",
       "          10.2900, 10.2900, 10.2921, 10.3000, 10.3500, 10.3700, 10.3500,\n",
       "          10.3700, 10.3700, 10.3000, 10.3500, 10.3500, 10.3333, 10.3000,\n",
       "          10.3000, 10.3000, 10.3000, 10.3000, 10.3700, 10.4000, 10.4000,\n",
       "          10.4063, 10.4200, 10.4200, 10.4300, 10.4300, 10.4400, 10.4500,\n",
       "          10.4500, 10.4400, 10.4500, 10.4600, 10.4700, 10.4600, 10.4600,\n",
       "          10.4600, 10.4700, 10.4800, 10.4800, 10.4763, 10.5000, 10.5000,\n",
       "          10.5000, 10.5000, 10.3800, 10.3800, 10.3800, 10.3000, 10.3000,\n",
       "          10.3000, 10.5100, 10.5100, 10.3000, 10.4700, 10.4500, 10.2000,\n",
       "          10.4400, 10.2000, 10.2000, 10.4100, 10.2000, 10.1988, 10.1900,\n",
       "          10.1900, 10.1483, 10.1000, 10.0000, 10.1800,  9.9900,  9.9800,\n",
       "           9.9800,  9.9500,  9.9600, 10.0200,  9.9308,  9.9800,  9.8700,\n",
       "           9.8600,  9.8600,  9.9000]]])"
      ]
     },
     "execution_count": 28,
     "metadata": {},
     "output_type": "execute_result"
    }
   ],
   "source": [
    "torch.FloatTensor(X[-1]).view(1, 1, X[-1].shape[0])"
   ]
  },
  {
   "cell_type": "code",
   "execution_count": 29,
   "id": "8a78b74b-1809-4b89-bb2a-b4f4ed4d1104",
   "metadata": {},
   "outputs": [],
   "source": [
    "pr = net2.forward( torch.FloatTensor(X[-1]).view(1, 1, X[-1].shape[0]).to(device)) "
   ]
  },
  {
   "cell_type": "code",
   "execution_count": 44,
   "id": "cbec54ff-d705-4b7c-bd71-f41685c20ebb",
   "metadata": {},
   "outputs": [
    {
     "data": {
      "text/plain": [
       "<matplotlib.legend.Legend at 0x191c5afafd0>"
      ]
     },
     "execution_count": 44,
     "metadata": {},
     "output_type": "execute_result"
    },
    {
     "data": {
      "image/png": "[encoded data removed]",
      "text/plain": [
       "<Figure size 432x288 with 1 Axes>"
      ]
     },
     "metadata": {
      "needs_background": "light"
     },
     "output_type": "display_data"
    }
   ],
   "source": [
    "plt.plot(np.concatenate([X[-1], y[-1]])+0.1)\n",
    "plt.plot((list(X[-1]) + list(pr[0][0].cpu().detach().numpy()))) # больше похоже на белый шум какой-то\n",
    "plt.legend(['Фактические значения','Предсказанные значения'])"
   ]
  },
  {
   "cell_type": "markdown",
   "id": "04b97477-3583-4901-b660-4798584d610d",
   "metadata": {},
   "source": [
    "Более-менее предсказывает."
   ]
  },
  {
   "cell_type": "markdown",
   "id": "2529656f-dc48-41b8-b355-5d29ae794e10",
   "metadata": {},
   "source": [
    "Тут у меня не получилось разобраться с размерностями("
   ]
  },
  {
   "cell_type": "code",
   "execution_count": 157,
   "id": "89c8700c-93ba-433e-bbb3-a175865fce7c",
   "metadata": {},
   "outputs": [],
   "source": [
    "n_x = 500\n",
    "n_y = 70"
   ]
  },
  {
   "cell_type": "code",
   "execution_count": 158,
   "id": "19b18d58-540a-4b96-a852-f15a099faa12",
   "metadata": {},
   "outputs": [],
   "source": [
    "X, y = return_XY(df['Weighted_Price'], start_idx = 0, final_index = 10000 , x_interval = n_x, y_interval = n_y)"
   ]
  },
  {
   "cell_type": "code",
   "execution_count": 159,
   "id": "0d26f2c5-be52-4641-b411-b806efa56765",
   "metadata": {},
   "outputs": [],
   "source": [
    "# преобразование данных в торчевские тензоры\n",
    "X_t = torch.FloatTensor(X[:90000])\n",
    "y_t = torch.FloatTensor(y[:90000])"
   ]
  },
  {
   "cell_type": "code",
   "execution_count": 160,
   "id": "86a32b88-9600-4056-aaf5-e98e13423c22",
   "metadata": {},
   "outputs": [],
   "source": [
    "#X_tr_reshape = X_t.view(1, X_t.shape[0], X_t.shape[1])\n",
    "#y_tr_reshape = y_t.view(1, y_t.shape[0], y_t.shape[1])"
   ]
  },
  {
   "cell_type": "code",
   "execution_count": 161,
   "id": "0f7f6ec7-74a2-411d-963e-992a2bced770",
   "metadata": {},
   "outputs": [
    {
     "data": {
      "text/plain": [
       "(torch.Size([10000, 500]), torch.Size([10000, 70]))"
      ]
     },
     "execution_count": 161,
     "metadata": {},
     "output_type": "execute_result"
    }
   ],
   "source": [
    "X_t.shape, y_t.shape"
   ]
  },
  {
   "cell_type": "code",
   "execution_count": 110,
   "id": "0185771f-415a-4330-98a0-40a264adc8c4",
   "metadata": {},
   "outputs": [
    {
     "data": {
      "text/plain": [
       "(torch.Size([1, 10000, 500]), torch.Size([1, 10000, 70]))"
      ]
     },
     "execution_count": 110,
     "metadata": {},
     "output_type": "execute_result"
    }
   ],
   "source": [
    "#X_tr_reshape.shape, y_tr_reshape.shape"
   ]
  },
  {
   "cell_type": "code",
   "execution_count": 242,
   "id": "0075e02d-33a8-4a3b-98b3-0e040fb4f584",
   "metadata": {},
   "outputs": [],
   "source": [
    "class Conv_net(torch.nn.Module):\n",
    "    def __init__(self, n_x, n_hidden_neurons, n_y):\n",
    "        super(Conv_net, self).__init__()\n",
    "        self.conv1 = torch.nn.Conv1d(in_channels = 1, out_channels=n_x, kernel_size=2)\n",
    "        self.conv2 = torch.nn.Conv1d(in_channels = n_x, out_channels=10, kernel_size=2)\n",
    "        self.pool = torch.nn.MaxPool1d(kernel_size = 7)\n",
    "        self.lrelu = torch.nn.LeakyReLU()\n",
    "        self.output_d = torch.nn.Linear(n_hidden_neurons, n_y)\n",
    "        \n",
    "    def forward(self, x):\n",
    "        x = self.conv1(x)\n",
    "        x = self.conv2(x)\n",
    "        x = self.pool(x)\n",
    "        x = self.lrelu(x)\n",
    "        x = self.output_d(x)\n",
    "        return x"
   ]
  },
  {
   "cell_type": "code",
   "execution_count": 243,
   "id": "10e6574a-9215-4fcf-9a2e-919ef99d180d",
   "metadata": {},
   "outputs": [],
   "source": [
    "device = torch.device('cuda:0' if torch.cuda.is_available() else 'cpu')\n",
    "conv_net = Conv_net(n_x, 70, n_y)\n",
    "conv_net = conv_net.to(device) # сетку в видеокарту\n",
    "loss = torch.nn.MSELoss()\n",
    "optimizer_3 = torch.optim.Adam(conv_net.parameters())\n",
    "scheduler = torch.optim.lr_scheduler.ReduceLROnPlateau(optimizer_3, mode='min',\n",
    "                                                       factor=0.5, patience=5, \n",
    "                                                       threshold=0.001, threshold_mode='abs')\n",
    "# т.е. если loss в течение patience = 5 эпох не будет меняться сильнее, чем 0.001, то lr делится на 2"
   ]
  },
  {
   "cell_type": "code",
   "execution_count": 244,
   "id": "e562add4-0ac1-48f2-8991-00d6ee8dae27",
   "metadata": {},
   "outputs": [
    {
     "data": {
      "text/plain": [
       "Conv_net(\n",
       "  (conv1): Conv1d(1, 500, kernel_size=(2,), stride=(1,))\n",
       "  (conv2): Conv1d(500, 10, kernel_size=(2,), stride=(1,))\n",
       "  (pool): MaxPool1d(kernel_size=7, stride=7, padding=0, dilation=1, ceil_mode=False)\n",
       "  (lrelu): LeakyReLU(negative_slope=0.01)\n",
       "  (output_d): Linear(in_features=70, out_features=70, bias=True)\n",
       ")"
      ]
     },
     "execution_count": 244,
     "metadata": {},
     "output_type": "execute_result"
    }
   ],
   "source": [
    "conv_net.train(mode = True) # перевод в режим обучения"
   ]
  },
  {
   "cell_type": "code",
   "execution_count": 245,
   "id": "bcd6e3af-29a0-4520-a6a2-a7c8139a66d7",
   "metadata": {},
   "outputs": [],
   "source": [
    "def fit_model(X_train, y_train, X_val = None, y_val = None, epochs = 10, batch_size = 16, verbose = 0):\n",
    "    X_train = X_train.to(device)\n",
    "    y_train = y_train.to(device)\n",
    "    if ((X_val != None) and (y_val != None) ):\n",
    "        X_val = X_val.to(device)\n",
    "        y_val = y_val.to(device)\n",
    "    loss_train = []\n",
    "    loss_val = []\n",
    "    for _ in zip(tqdm(range(epochs)), range(epochs)):\n",
    "        for idx in range(0, len(X_train), batch_size):\n",
    "            optimizer_3.zero_grad()\n",
    "            \n",
    "            X_batch = X_train[idx:idx+batch_size]\n",
    "            y_batch = y_train[idx:idx+batch_size]\n",
    "            #X_batch = X_batch.reshape(X_batch.shape[0], X_batch.shape[1], 1)\n",
    "            #y_batch = y_batch.reshape(y_batch.shape[0], y_batch.shape[1], 1)\n",
    "            print(X_batch.shape)\n",
    "            \n",
    "            predictions = conv_net.forward(X_batch)\n",
    "            loss_ = loss(y_batch, predictions)\n",
    "            loss_.backward()\n",
    "            optimizer_3.step()\n",
    "        \n",
    "        train_preds = conv_net.forward(X_train)\n",
    "        temp_loss_train = loss(train_preds, y_train)\n",
    "        loss_train.append( temp_loss_train )\n",
    "        if ( (X_val != None) and (y_val != None) ):\n",
    "            val_preds = conv_net.forward(X_val)\n",
    "            loss_val.append(loss(val_preds, y_val))\n",
    "        \n",
    "        if (verbose == 1):\n",
    "            #clear_output()\n",
    "            print (temp_loss_train)\n",
    "            \n",
    "    if (len(loss_val)>0):\n",
    "        return loss_train, loss_val\n",
    "    else: \n",
    "        return loss_train"
   ]
  },
  {
   "cell_type": "code",
   "execution_count": 246,
   "id": "2cafa857-cbc8-4bc5-9792-266ec0509e53",
   "metadata": {},
   "outputs": [
    {
     "name": "stderr",
     "output_type": "stream",
     "text": [
      "  0%|                                                   | 0/15 [00:00<?, ?it/s]"
     ]
    },
    {
     "name": "stdout",
     "output_type": "stream",
     "text": [
      "torch.Size([16, 500])\n"
     ]
    },
    {
     "name": "stderr",
     "output_type": "stream",
     "text": [
      "\n"
     ]
    },
    {
     "ename": "RuntimeError",
     "evalue": "Expected 3-dimensional input for 3-dimensional weight [500, 1, 2], but got 2-dimensional input of size [16, 500] instead",
     "output_type": "error",
     "traceback": [
      "\u001b[1;31m---------------------------------------------------------------------------\u001b[0m",
      "\u001b[1;31mRuntimeError\u001b[0m                              Traceback (most recent call last)",
      "\u001b[1;32m<ipython-input-246-c20c8e100d56>\u001b[0m in \u001b[0;36m<module>\u001b[1;34m\u001b[0m\n\u001b[1;32m----> 1\u001b[1;33m \u001b[0ml_loss\u001b[0m \u001b[1;33m=\u001b[0m \u001b[0mfit_model\u001b[0m\u001b[1;33m(\u001b[0m\u001b[0mX_t\u001b[0m\u001b[1;33m,\u001b[0m \u001b[0my_t\u001b[0m\u001b[1;33m,\u001b[0m \u001b[0mepochs\u001b[0m \u001b[1;33m=\u001b[0m \u001b[1;36m15\u001b[0m\u001b[1;33m,\u001b[0m \u001b[0mbatch_size\u001b[0m \u001b[1;33m=\u001b[0m \u001b[1;36m16\u001b[0m\u001b[1;33m,\u001b[0m \u001b[0mverbose\u001b[0m \u001b[1;33m=\u001b[0m \u001b[1;36m1\u001b[0m\u001b[1;33m)\u001b[0m\u001b[1;33m\u001b[0m\u001b[1;33m\u001b[0m\u001b[0m\n\u001b[0m",
      "\u001b[1;32m<ipython-input-245-f26fd2d407a2>\u001b[0m in \u001b[0;36mfit_model\u001b[1;34m(X_train, y_train, X_val, y_val, epochs, batch_size, verbose)\u001b[0m\n\u001b[0;32m     17\u001b[0m             \u001b[0mprint\u001b[0m\u001b[1;33m(\u001b[0m\u001b[0mX_batch\u001b[0m\u001b[1;33m.\u001b[0m\u001b[0mshape\u001b[0m\u001b[1;33m)\u001b[0m\u001b[1;33m\u001b[0m\u001b[1;33m\u001b[0m\u001b[0m\n\u001b[0;32m     18\u001b[0m \u001b[1;33m\u001b[0m\u001b[0m\n\u001b[1;32m---> 19\u001b[1;33m             \u001b[0mpredictions\u001b[0m \u001b[1;33m=\u001b[0m \u001b[0mconv_net\u001b[0m\u001b[1;33m.\u001b[0m\u001b[0mforward\u001b[0m\u001b[1;33m(\u001b[0m\u001b[0mX_batch\u001b[0m\u001b[1;33m)\u001b[0m\u001b[1;33m\u001b[0m\u001b[1;33m\u001b[0m\u001b[0m\n\u001b[0m\u001b[0;32m     20\u001b[0m             \u001b[0mloss_\u001b[0m \u001b[1;33m=\u001b[0m \u001b[0mloss\u001b[0m\u001b[1;33m(\u001b[0m\u001b[0my_batch\u001b[0m\u001b[1;33m,\u001b[0m \u001b[0mpredictions\u001b[0m\u001b[1;33m)\u001b[0m\u001b[1;33m\u001b[0m\u001b[1;33m\u001b[0m\u001b[0m\n\u001b[0;32m     21\u001b[0m             \u001b[0mloss_\u001b[0m\u001b[1;33m.\u001b[0m\u001b[0mbackward\u001b[0m\u001b[1;33m(\u001b[0m\u001b[1;33m)\u001b[0m\u001b[1;33m\u001b[0m\u001b[1;33m\u001b[0m\u001b[0m\n",
      "\u001b[1;32m<ipython-input-242-b58f90d07ed5>\u001b[0m in \u001b[0;36mforward\u001b[1;34m(self, x)\u001b[0m\n\u001b[0;32m      9\u001b[0m \u001b[1;33m\u001b[0m\u001b[0m\n\u001b[0;32m     10\u001b[0m     \u001b[1;32mdef\u001b[0m \u001b[0mforward\u001b[0m\u001b[1;33m(\u001b[0m\u001b[0mself\u001b[0m\u001b[1;33m,\u001b[0m \u001b[0mx\u001b[0m\u001b[1;33m)\u001b[0m\u001b[1;33m:\u001b[0m\u001b[1;33m\u001b[0m\u001b[1;33m\u001b[0m\u001b[0m\n\u001b[1;32m---> 11\u001b[1;33m         \u001b[0mx\u001b[0m \u001b[1;33m=\u001b[0m \u001b[0mself\u001b[0m\u001b[1;33m.\u001b[0m\u001b[0mconv1\u001b[0m\u001b[1;33m(\u001b[0m\u001b[0mx\u001b[0m\u001b[1;33m)\u001b[0m\u001b[1;33m\u001b[0m\u001b[1;33m\u001b[0m\u001b[0m\n\u001b[0m\u001b[0;32m     12\u001b[0m         \u001b[0mx\u001b[0m \u001b[1;33m=\u001b[0m \u001b[0mself\u001b[0m\u001b[1;33m.\u001b[0m\u001b[0mconv2\u001b[0m\u001b[1;33m(\u001b[0m\u001b[0mx\u001b[0m\u001b[1;33m)\u001b[0m\u001b[1;33m\u001b[0m\u001b[1;33m\u001b[0m\u001b[0m\n\u001b[0;32m     13\u001b[0m         \u001b[0mx\u001b[0m \u001b[1;33m=\u001b[0m \u001b[0mself\u001b[0m\u001b[1;33m.\u001b[0m\u001b[0mpool\u001b[0m\u001b[1;33m(\u001b[0m\u001b[0mx\u001b[0m\u001b[1;33m)\u001b[0m\u001b[1;33m\u001b[0m\u001b[1;33m\u001b[0m\u001b[0m\n",
      "\u001b[1;32mX:\\Users\\jeka_\\Anaconda3\\envs\\py36\\lib\\site-packages\\torch\\nn\\modules\\module.py\u001b[0m in \u001b[0;36m_call_impl\u001b[1;34m(self, *input, **kwargs)\u001b[0m\n\u001b[0;32m   1100\u001b[0m         if not (self._backward_hooks or self._forward_hooks or self._forward_pre_hooks or _global_backward_hooks\n\u001b[0;32m   1101\u001b[0m                 or _global_forward_hooks or _global_forward_pre_hooks):\n\u001b[1;32m-> 1102\u001b[1;33m             \u001b[1;32mreturn\u001b[0m \u001b[0mforward_call\u001b[0m\u001b[1;33m(\u001b[0m\u001b[1;33m*\u001b[0m\u001b[0minput\u001b[0m\u001b[1;33m,\u001b[0m \u001b[1;33m**\u001b[0m\u001b[0mkwargs\u001b[0m\u001b[1;33m)\u001b[0m\u001b[1;33m\u001b[0m\u001b[1;33m\u001b[0m\u001b[0m\n\u001b[0m\u001b[0;32m   1103\u001b[0m         \u001b[1;31m# Do not call functions when jit is used\u001b[0m\u001b[1;33m\u001b[0m\u001b[1;33m\u001b[0m\u001b[1;33m\u001b[0m\u001b[0m\n\u001b[0;32m   1104\u001b[0m         \u001b[0mfull_backward_hooks\u001b[0m\u001b[1;33m,\u001b[0m \u001b[0mnon_full_backward_hooks\u001b[0m \u001b[1;33m=\u001b[0m \u001b[1;33m[\u001b[0m\u001b[1;33m]\u001b[0m\u001b[1;33m,\u001b[0m \u001b[1;33m[\u001b[0m\u001b[1;33m]\u001b[0m\u001b[1;33m\u001b[0m\u001b[1;33m\u001b[0m\u001b[0m\n",
      "\u001b[1;32mX:\\Users\\jeka_\\Anaconda3\\envs\\py36\\lib\\site-packages\\torch\\nn\\modules\\conv.py\u001b[0m in \u001b[0;36mforward\u001b[1;34m(self, input)\u001b[0m\n\u001b[0;32m    299\u001b[0m \u001b[1;33m\u001b[0m\u001b[0m\n\u001b[0;32m    300\u001b[0m     \u001b[1;32mdef\u001b[0m \u001b[0mforward\u001b[0m\u001b[1;33m(\u001b[0m\u001b[0mself\u001b[0m\u001b[1;33m,\u001b[0m \u001b[0minput\u001b[0m\u001b[1;33m:\u001b[0m \u001b[0mTensor\u001b[0m\u001b[1;33m)\u001b[0m \u001b[1;33m->\u001b[0m \u001b[0mTensor\u001b[0m\u001b[1;33m:\u001b[0m\u001b[1;33m\u001b[0m\u001b[1;33m\u001b[0m\u001b[0m\n\u001b[1;32m--> 301\u001b[1;33m         \u001b[1;32mreturn\u001b[0m \u001b[0mself\u001b[0m\u001b[1;33m.\u001b[0m\u001b[0m_conv_forward\u001b[0m\u001b[1;33m(\u001b[0m\u001b[0minput\u001b[0m\u001b[1;33m,\u001b[0m \u001b[0mself\u001b[0m\u001b[1;33m.\u001b[0m\u001b[0mweight\u001b[0m\u001b[1;33m,\u001b[0m \u001b[0mself\u001b[0m\u001b[1;33m.\u001b[0m\u001b[0mbias\u001b[0m\u001b[1;33m)\u001b[0m\u001b[1;33m\u001b[0m\u001b[1;33m\u001b[0m\u001b[0m\n\u001b[0m\u001b[0;32m    302\u001b[0m \u001b[1;33m\u001b[0m\u001b[0m\n\u001b[0;32m    303\u001b[0m \u001b[1;33m\u001b[0m\u001b[0m\n",
      "\u001b[1;32mX:\\Users\\jeka_\\Anaconda3\\envs\\py36\\lib\\site-packages\\torch\\nn\\modules\\conv.py\u001b[0m in \u001b[0;36m_conv_forward\u001b[1;34m(self, input, weight, bias)\u001b[0m\n\u001b[0;32m    296\u001b[0m                             _single(0), self.dilation, self.groups)\n\u001b[0;32m    297\u001b[0m         return F.conv1d(input, weight, bias, self.stride,\n\u001b[1;32m--> 298\u001b[1;33m                         self.padding, self.dilation, self.groups)\n\u001b[0m\u001b[0;32m    299\u001b[0m \u001b[1;33m\u001b[0m\u001b[0m\n\u001b[0;32m    300\u001b[0m     \u001b[1;32mdef\u001b[0m \u001b[0mforward\u001b[0m\u001b[1;33m(\u001b[0m\u001b[0mself\u001b[0m\u001b[1;33m,\u001b[0m \u001b[0minput\u001b[0m\u001b[1;33m:\u001b[0m \u001b[0mTensor\u001b[0m\u001b[1;33m)\u001b[0m \u001b[1;33m->\u001b[0m \u001b[0mTensor\u001b[0m\u001b[1;33m:\u001b[0m\u001b[1;33m\u001b[0m\u001b[1;33m\u001b[0m\u001b[0m\n",
      "\u001b[1;31mRuntimeError\u001b[0m: Expected 3-dimensional input for 3-dimensional weight [500, 1, 2], but got 2-dimensional input of size [16, 500] instead"
     ]
    }
   ],
   "source": [
    "l_loss = fit_model(X_t, y_t, epochs = 15, batch_size = 16, verbose = 1)"
   ]
  },
  {
   "cell_type": "code",
   "execution_count": null,
   "id": "54733fad-77b3-4bd7-8cd1-93b30fe54866",
   "metadata": {},
   "outputs": [],
   "source": []
  },
  {
   "cell_type": "markdown",
   "id": "bec569fd-b15f-47e2-a13c-d8363b22452c",
   "metadata": {
    "tags": []
   },
   "source": [
    "# Задание 2 - классификация с картинками #"
   ]
  },
  {
   "cell_type": "markdown",
   "id": "4178e244-645b-4672-9321-be7f727cef3a",
   "metadata": {
    "jp-MarkdownHeadingCollapsed": true,
    "tags": []
   },
   "source": [
    "### Загрузка и работа с данными ###"
   ]
  },
  {
   "cell_type": "markdown",
   "id": "55c108ec-7394-4877-a8af-14c270adfd32",
   "metadata": {},
   "source": [
    "Данные - датасет с кошками и собаками. Всего 25000 картинок."
   ]
  },
  {
   "cell_type": "markdown",
   "id": "cb84d297-d72b-4872-ba70-6e61a6881c76",
   "metadata": {},
   "source": [
    "Загрузка картинок."
   ]
  },
  {
   "cell_type": "code",
   "execution_count": 3,
   "id": "871e604a-5a1a-4e1c-8da9-1121ec6cf20d",
   "metadata": {
    "tags": []
   },
   "outputs": [
    {
     "name": "stderr",
     "output_type": "stream",
     "text": [
      "100%|███████████████████████████████████| 25000/25000 [02:29<00:00, 166.87it/s]\n"
     ]
    }
   ],
   "source": [
    "images = []\n",
    "labels = []\n",
    "for _, file in zip(tqdm(range(25000)), glob.glob(\"train//*.jpg\")):\n",
    "    images.append(load_img(file, target_size = (120, 120)))\n",
    "    labels.append(str(file)[6:9])"
   ]
  },
  {
   "cell_type": "markdown",
   "id": "850ae048-f016-4e6d-a523-900e7ba10393",
   "metadata": {},
   "source": [
    "Перенос в формат массивов."
   ]
  },
  {
   "cell_type": "code",
   "execution_count": 6,
   "id": "1675292a-2fcc-4a7b-827d-1ab5515a9bcf",
   "metadata": {},
   "outputs": [
    {
     "name": "stderr",
     "output_type": "stream",
     "text": [
      "100%|██████████████████████████████████| 25000/25000 [00:12<00:00, 2007.89it/s]\n"
     ]
    }
   ],
   "source": [
    "images_arr = np.array([asarray(pic) for _, pic in zip( tqdm(range(len(images))), images )])"
   ]
  },
  {
   "cell_type": "markdown",
   "id": "86a3a309-2563-4564-9d6b-37b64b176385",
   "metadata": {},
   "source": [
    "Можно посмотреть несколько штук."
   ]
  },
  {
   "cell_type": "code",
   "execution_count": 4,
   "id": "6fb3d467-f3e9-469a-bad4-e0a4970d844f",
   "metadata": {
    "tags": []
   },
   "outputs": [
    {
     "data": {
      "image/png": "[encoded data removed]",
      "text/plain": [
       "<Figure size 720x720 with 5 Axes>"
      ]
     },
     "metadata": {
      "needs_background": "light"
     },
     "output_type": "display_data"
    }
   ],
   "source": [
    "fig, ax = plt.subplots(1,5,figsize = (10,10))\n",
    "for i, num, img in zip(range(0, 5), range(0, 25000, 5000), images[0:-1:5000]):\n",
    "    ax[i].imshow(img)\n",
    "    ax[i].set_title(label = str(labels[num]))"
   ]
  },
  {
   "cell_type": "markdown",
   "id": "8604921e-1183-4e0a-9a78-8d35ece43f7c",
   "metadata": {},
   "source": [
    "Небольшая работа с данными, чтобы сетка лучше их кушала."
   ]
  },
  {
   "cell_type": "code",
   "execution_count": 13,
   "id": "1c615e3a-32f7-413a-8c92-4f1e8e526ef8",
   "metadata": {},
   "outputs": [],
   "source": [
    "ohe = OneHotEncoder()\n",
    "y_binary = ohe.fit_transform(np.array(labels).reshape(-1,1))"
   ]
  },
  {
   "cell_type": "code",
   "execution_count": 14,
   "id": "2b36c4b2-c568-4886-9a62-c19f5ccb23d7",
   "metadata": {},
   "outputs": [],
   "source": [
    "X_train, X_test, y_train, y_test = train_test_split(images_arr, y_binary, shuffle = True, train_size=0.7)"
   ]
  },
  {
   "cell_type": "code",
   "execution_count": 15,
   "id": "ddf3d891-2612-49e0-8787-ebb763ec1a30",
   "metadata": {},
   "outputs": [],
   "source": [
    "y_train = csr_matrix(y_train).toarray()"
   ]
  },
  {
   "cell_type": "code",
   "execution_count": 16,
   "id": "c3f297a0-68c8-4a1b-84a0-9562f2655de9",
   "metadata": {},
   "outputs": [],
   "source": [
    "X_train = np.asarray(X_train).astype('float32')\n",
    "y_train = np.asarray(y_train).astype('float32')"
   ]
  },
  {
   "cell_type": "code",
   "execution_count": 17,
   "id": "a151ba52-c5ce-4e3a-8b22-ebc563398c6e",
   "metadata": {},
   "outputs": [],
   "source": [
    "X_train = X_train / 255\n",
    "X_test = X_test / 255"
   ]
  },
  {
   "cell_type": "code",
   "execution_count": 18,
   "id": "a4b98868-cdc2-4d0b-91ff-f8a741cdfef2",
   "metadata": {
    "tags": []
   },
   "outputs": [
    {
     "data": {
      "text/plain": [
       "((17500, 120, 120, 3), (17500, 2))"
      ]
     },
     "execution_count": 18,
     "metadata": {},
     "output_type": "execute_result"
    }
   ],
   "source": [
    "X_train.shape, y_train.shape"
   ]
  },
  {
   "cell_type": "markdown",
   "id": "04020e3b-0307-453d-ab66-75d6070ae242",
   "metadata": {
    "jp-MarkdownHeadingCollapsed": true,
    "tags": []
   },
   "source": [
    "### Нейросети на керасе (для разнообразия) ###"
   ]
  },
  {
   "cell_type": "markdown",
   "id": "8511f232-01d5-4fad-b6c5-5006e6cb8eb5",
   "metadata": {
    "tags": []
   },
   "source": [
    "#### Простая через Sequential ####"
   ]
  },
  {
   "cell_type": "code",
   "execution_count": 19,
   "id": "2cc63096-9b0c-49b9-a6a0-d102ad2a338d",
   "metadata": {},
   "outputs": [
    {
     "name": "stdout",
     "output_type": "stream",
     "text": [
      "WARNING:tensorflow:From X:\\Users\\jeka_\\Anaconda3\\envs\\py36\\lib\\site-packages\\tensorflow\\python\\ops\\init_ops.py:1251: calling VarianceScaling.__init__ (from tensorflow.python.ops.init_ops) with dtype is deprecated and will be removed in a future version.\n",
      "Instructions for updating:\n",
      "Call initializer instance with the dtype argument instead of passing it to the constructor\n"
     ]
    }
   ],
   "source": [
    "block = Sequential()\n",
    "block.add(keras.Input(shape=(120,120,3)))\n",
    "block.add(keras.layers.Conv2D(filters = 3, strides = 1, kernel_size = (3,3), input_shape=(120,120,3)))\n",
    "block.add(keras.layers.Conv2D(filters = 5, strides = 1, kernel_size = (3,3)))\n",
    "block.add(keras.layers.Conv2D(filters = 2, strides = 1, kernel_size = (2,2)))\n",
    "block.add(keras.layers.MaxPool2D(pool_size=(5, 5)))\n",
    "#block.add(keras.layers.MaxPool2D(pool_size=(2, 2)))\n",
    "block.add(keras.layers.BatchNormalization()) # благодаря ей уже на первой эпохе train acc>0.6\n",
    "block.add(keras.layers.Flatten())\n",
    "block.add(keras.layers.Dense(20))\n",
    "block.add(keras.layers.LeakyReLU())\n",
    "block.add(keras.layers.Dense(128))\n",
    "block.add(keras.layers.LeakyReLU())\n",
    "block.add(keras.layers.Dense(64))\n",
    "block.add(keras.layers.LeakyReLU())\n",
    "block.add(keras.layers.Dense(2, activation = 'sigmoid'))"
   ]
  },
  {
   "cell_type": "code",
   "execution_count": 20,
   "id": "96caa8ed-ec05-4083-acf5-229bda4c8de0",
   "metadata": {},
   "outputs": [
    {
     "name": "stdout",
     "output_type": "stream",
     "text": [
      "Model: \"sequential\"\n",
      "_________________________________________________________________\n",
      "Layer (type)                 Output Shape              Param #   \n",
      "=================================================================\n",
      "conv2d (Conv2D)              (None, 118, 118, 3)       84        \n",
      "_________________________________________________________________\n",
      "conv2d_1 (Conv2D)            (None, 116, 116, 5)       140       \n",
      "_________________________________________________________________\n",
      "conv2d_2 (Conv2D)            (None, 115, 115, 2)       42        \n",
      "_________________________________________________________________\n",
      "max_pooling2d (MaxPooling2D) (None, 23, 23, 2)         0         \n",
      "_________________________________________________________________\n",
      "batch_normalization (BatchNo (None, 23, 23, 2)         8         \n",
      "_________________________________________________________________\n",
      "flatten (Flatten)            (None, 1058)              0         \n",
      "_________________________________________________________________\n",
      "dense (Dense)                (None, 20)                21180     \n",
      "_________________________________________________________________\n",
      "leaky_re_lu (LeakyReLU)      (None, 20)                0         \n",
      "_________________________________________________________________\n",
      "dense_1 (Dense)              (None, 128)               2688      \n",
      "_________________________________________________________________\n",
      "leaky_re_lu_1 (LeakyReLU)    (None, 128)               0         \n",
      "_________________________________________________________________\n",
      "dense_2 (Dense)              (None, 64)                8256      \n",
      "_________________________________________________________________\n",
      "leaky_re_lu_2 (LeakyReLU)    (None, 64)                0         \n",
      "_________________________________________________________________\n",
      "dense_3 (Dense)              (None, 2)                 130       \n",
      "=================================================================\n",
      "Total params: 32,528\n",
      "Trainable params: 32,524\n",
      "Non-trainable params: 4\n",
      "_________________________________________________________________\n"
     ]
    }
   ],
   "source": [
    "block.summary()"
   ]
  },
  {
   "cell_type": "code",
   "execution_count": 21,
   "id": "22b3ced2-2605-4d3d-ac12-1b8759d537c8",
   "metadata": {},
   "outputs": [
    {
     "name": "stdout",
     "output_type": "stream",
     "text": [
      "WARNING:tensorflow:From X:\\Users\\jeka_\\Anaconda3\\envs\\py36\\lib\\site-packages\\tensorflow\\python\\ops\\nn_impl.py:180: add_dispatch_support.<locals>.wrapper (from tensorflow.python.ops.array_ops) is deprecated and will be removed in a future version.\n",
      "Instructions for updating:\n",
      "Use tf.where in 2.0, which has the same broadcast rule as np.where\n"
     ]
    }
   ],
   "source": [
    "block.compile(optimizer = 'adam', loss=tf.keras.losses.BinaryCrossentropy(), metrics=['accuracy'])"
   ]
  },
  {
   "cell_type": "code",
   "execution_count": 22,
   "id": "c10e6278-15f5-4016-9081-d63163f089bf",
   "metadata": {},
   "outputs": [
    {
     "data": {
      "text/plain": [
       "((120, 120, 3), (2,))"
      ]
     },
     "execution_count": 22,
     "metadata": {},
     "output_type": "execute_result"
    }
   ],
   "source": [
    "X_train[0].shape, y_train[0].shape, "
   ]
  },
  {
   "cell_type": "code",
   "execution_count": 24,
   "id": "9d1cf732-11f4-4e6e-ab0c-f7f54aa936c6",
   "metadata": {
    "tags": []
   },
   "outputs": [
    {
     "name": "stdout",
     "output_type": "stream",
     "text": [
      "Train on 900 samples, validate on 100 samples\n",
      "Epoch 1/3\n",
      "900/900 [==============================] - 25s 28ms/sample - loss: 0.6651 - acc: 0.5983 - val_loss: 0.6420 - val_acc: 0.6450\n",
      "Epoch 2/3\n",
      "900/900 [==============================] - 25s 28ms/sample - loss: 0.6141 - acc: 0.6389 - val_loss: 0.6384 - val_acc: 0.6800\n",
      "Epoch 3/3\n",
      "900/900 [==============================] - 26s 29ms/sample - loss: 0.5977 - acc: 0.6706 - val_loss: 0.6539 - val_acc: 0.6750\n"
     ]
    }
   ],
   "source": [
    "history = block.fit(X_train[:1000], y_train[:1000], epochs = 3, batch_size = 128, verbose = 1, validation_split = 0.1)"
   ]
  },
  {
   "cell_type": "code",
   "execution_count": 29,
   "id": "94f612ce-7642-465c-bad2-cf6427d9438f",
   "metadata": {},
   "outputs": [
    {
     "data": {
      "text/plain": [
       "{'loss': [0.6650583145353529, 0.6141382582982381, 0.597673991786109],\n",
       " 'acc': [0.59833336, 0.6388889, 0.67055553],\n",
       " 'val_loss': [0.6420180797576904, 0.6383607983589172, 0.6538652777671814],\n",
       " 'val_acc': [0.645, 0.68, 0.675]}"
      ]
     },
     "execution_count": 29,
     "metadata": {},
     "output_type": "execute_result"
    }
   ],
   "source": [
    "history.history"
   ]
  },
  {
   "cell_type": "code",
   "execution_count": 30,
   "id": "77e0c41d-19aa-4867-97aa-fbd870c2cfce",
   "metadata": {
    "tags": []
   },
   "outputs": [
    {
     "data": {
      "text/plain": [
       "<matplotlib.legend.Legend at 0x1f777d25e10>"
      ]
     },
     "execution_count": 30,
     "metadata": {},
     "output_type": "execute_result"
    },
    {
     "data": {
      "image/png": "[encoded data removed]",
      "text/plain": [
       "<Figure size 432x288 with 1 Axes>"
      ]
     },
     "metadata": {
      "needs_background": "light"
     },
     "output_type": "display_data"
    }
   ],
   "source": [
    "plt.plot(history.history['acc'])\n",
    "plt.plot(history.history['val_acc'])\n",
    "plt.legend(['train accuracy','validation accuracy'])\n",
    "# переобучение после 1-вой эпохи"
   ]
  },
  {
   "cell_type": "markdown",
   "id": "166422cd-4022-4769-b179-467bbd5cc1e7",
   "metadata": {
    "tags": []
   },
   "source": [
    "#### Прямым проходом вручную ####"
   ]
  },
  {
   "cell_type": "code",
   "execution_count": 31,
   "id": "da135171-2406-48e1-b681-963688488986",
   "metadata": {},
   "outputs": [],
   "source": [
    "def My_net(input_shape):\n",
    "    inputs = keras.Input(shape=input_shape)\n",
    "    x = keras.layers.Conv2D(filters = 48, strides = 1, kernel_size = (2,2), input_shape=input_shape)(inputs)\n",
    "    x = keras.layers.Conv2D(filters = 64, strides = 1, kernel_size = (2,2))(x)\n",
    "    x = keras.layers.BatchNormalization()(x)\n",
    "    x = keras.layers.Conv2D(filters = 32, strides = 2, kernel_size = (2,2))(x)\n",
    "    x = keras.layers.MaxPool2D(pool_size=(3, 3))(x)\n",
    "    \n",
    "    x = keras.layers.Conv2D(filters = 20, strides = 1, kernel_size = (2,2))(x)\n",
    "    #x = keras.layers.Conv2D(filters = 6, strides = 1, kernel_size = (2,2))(x)\n",
    "    x = keras.layers.BatchNormalization()(x)\n",
    "    #x = keras.layers.Conv2D(filters = 1, strides = 2, kernel_size = (2,2))(x)\n",
    "    #x = keras.layers.MaxPool2D(pool_size=(2, 2))(x)\n",
    "    x = keras.layers.Flatten()(x)\n",
    "    \n",
    "    x = keras.layers.Dense(20)(x)\n",
    "    x = keras.layers.LeakyReLU()(x)\n",
    "    #x = keras.layers.Dropout(0.3)(x)\n",
    "    x = keras.layers.Dense(50)(x)\n",
    "    x = keras.layers.LeakyReLU()(x)\n",
    "    x = keras.layers.Dense(10)(x)\n",
    "    outputs = keras.layers.Dense(2, activation='sigmoid')(x)\n",
    "    model = keras.Model(inputs, outputs)\n",
    "    return model"
   ]
  },
  {
   "cell_type": "code",
   "execution_count": 34,
   "id": "0931db4f-df6f-4c95-891a-cd5952086d4a",
   "metadata": {},
   "outputs": [
    {
     "name": "stdout",
     "output_type": "stream",
     "text": [
      "Model: \"model_1\"\n",
      "_________________________________________________________________\n",
      "Layer (type)                 Output Shape              Param #   \n",
      "=================================================================\n",
      "input_3 (InputLayer)         [(None, 120, 120, 3)]     0         \n",
      "_________________________________________________________________\n",
      "conv2d_7 (Conv2D)            (None, 119, 119, 48)      624       \n",
      "_________________________________________________________________\n",
      "conv2d_8 (Conv2D)            (None, 118, 118, 64)      12352     \n",
      "_________________________________________________________________\n",
      "batch_normalization_3 (Batch (None, 118, 118, 64)      256       \n",
      "_________________________________________________________________\n",
      "conv2d_9 (Conv2D)            (None, 59, 59, 32)        8224      \n",
      "_________________________________________________________________\n",
      "max_pooling2d_2 (MaxPooling2 (None, 19, 19, 32)        0         \n",
      "_________________________________________________________________\n",
      "conv2d_10 (Conv2D)           (None, 18, 18, 20)        2580      \n",
      "_________________________________________________________________\n",
      "batch_normalization_4 (Batch (None, 18, 18, 20)        80        \n",
      "_________________________________________________________________\n",
      "flatten_2 (Flatten)          (None, 6480)              0         \n",
      "_________________________________________________________________\n",
      "dense_8 (Dense)              (None, 20)                129620    \n",
      "_________________________________________________________________\n",
      "leaky_re_lu_5 (LeakyReLU)    (None, 20)                0         \n",
      "_________________________________________________________________\n",
      "dense_9 (Dense)              (None, 50)                1050      \n",
      "_________________________________________________________________\n",
      "leaky_re_lu_6 (LeakyReLU)    (None, 50)                0         \n",
      "_________________________________________________________________\n",
      "dense_10 (Dense)             (None, 10)                510       \n",
      "_________________________________________________________________\n",
      "dense_11 (Dense)             (None, 2)                 22        \n",
      "=================================================================\n",
      "Total params: 155,318\n",
      "Trainable params: 155,150\n",
      "Non-trainable params: 168\n",
      "_________________________________________________________________\n"
     ]
    }
   ],
   "source": [
    "model = My_net((120, 120, 3))\n",
    "model.summary()"
   ]
  },
  {
   "cell_type": "code",
   "execution_count": 35,
   "id": "a62481c5-7d6f-4963-8d81-63cc13717fcd",
   "metadata": {},
   "outputs": [],
   "source": [
    "model.compile(optimizer = 'adam', loss=tf.keras.losses.categorical_crossentropy, metrics=['accuracy'])"
   ]
  },
  {
   "cell_type": "code",
   "execution_count": 37,
   "id": "4c75f8c3-64f8-4ca0-a271-615ebea02a3e",
   "metadata": {
    "tags": []
   },
   "outputs": [
    {
     "name": "stdout",
     "output_type": "stream",
     "text": [
      "Train on 900 samples, validate on 100 samples\n",
      "Epoch 1/5\n",
      "900/900 [==============================] - 171s 190ms/sample - loss: 0.6857 - acc: 0.6222 - val_loss: 0.6670 - val_acc: 0.5900\n",
      "Epoch 2/5\n",
      "900/900 [==============================] - 169s 187ms/sample - loss: 0.5877 - acc: 0.6811 - val_loss: 0.6605 - val_acc: 0.6200\n",
      "Epoch 3/5\n",
      "900/900 [==============================] - 165s 184ms/sample - loss: 0.5374 - acc: 0.7244 - val_loss: 0.6755 - val_acc: 0.6000\n",
      "Epoch 4/5\n",
      "900/900 [==============================] - 165s 183ms/sample - loss: 0.4539 - acc: 0.7878 - val_loss: 0.6601 - val_acc: 0.5900\n",
      "Epoch 5/5\n",
      "900/900 [==============================] - 169s 188ms/sample - loss: 0.4080 - acc: 0.8089 - val_loss: 0.6975 - val_acc: 0.5900\n"
     ]
    }
   ],
   "source": [
    "history = model.fit(X_train[:1000], y_train[:1000], epochs = 5, batch_size = 128, verbose = 1, validation_split = 0.1)"
   ]
  },
  {
   "cell_type": "code",
   "execution_count": 38,
   "id": "15e4a9ea-adab-414c-8583-44fc7d031245",
   "metadata": {},
   "outputs": [
    {
     "data": {
      "text/plain": [
       "<matplotlib.legend.Legend at 0x1f77a264668>"
      ]
     },
     "execution_count": 38,
     "metadata": {},
     "output_type": "execute_result"
    },
    {
     "data": {
      "image/png": "[encoded data removed]",
      "text/plain": [
       "<Figure size 432x288 with 1 Axes>"
      ]
     },
     "metadata": {
      "needs_background": "light"
     },
     "output_type": "display_data"
    }
   ],
   "source": [
    "plt.plot(history.history['acc'])\n",
    "plt.plot(history.history['val_acc'])\n",
    "plt.legend(['train accuracy','validation accuracy'])\n",
    "# переобучение после 1-вой эпохи, также, как и в прошлый раз"
   ]
  },
  {
   "cell_type": "code",
   "execution_count": 347,
   "id": "8434c1de-7e27-412d-a956-29beaf645f92",
   "metadata": {},
   "outputs": [],
   "source": [
    "class CatNet(torch.nn.Module):\n",
    "    def __init__(self):\n",
    "        super(CatNet, self).__init__()\n",
    "        \n",
    "        # enc\n",
    "        #self.conv0 = torch.nn.Conv2d(in_channels = 3, out_channels = 6, stride = 1, kernel_size = (2,2), )\n",
    "        self.conv1 = torch.nn.Conv2d(in_channels = 3, out_channels = 6, stride = 1, kernel_size = (5,5))\n",
    "        self.conv2 = torch.nn.Conv2d(in_channels = 6, out_channels = 16, stride = 1, kernel_size = (5,5))\n",
    "        #self.pool = torch.nn.MaxPool2d(kernel_size=(2, 2), stride = 2)\n",
    "        self.flat = torch.nn.Flatten()\n",
    "        \n",
    "        # classifier\n",
    "        self.d1 = torch.nn.Linear(in_features = 200704, out_features = 16)\n",
    "        self.act = torch.nn.LeakyReLU()\n",
    "        self.d2 = torch.nn.Linear(in_features = 16, out_features = 10)\n",
    "        self.d3 = torch.nn.Linear(in_features = 10, out_features = 2)\n",
    "        \n",
    "        \n",
    "        \n",
    "    def forward(self, x):\n",
    "        x = self.conv1(x)\n",
    "        x = self.conv2(x)\n",
    "        #x = self.pool(x)\n",
    "        x = self.flat(x)\n",
    "        #print(x.shape)\n",
    "        x = self.d1(x)\n",
    "        x = self.act(x)\n",
    "        x = self.d2(x)\n",
    "        x = self.act(x)\n",
    "        x = self.d3(x)\n",
    "        return x"
   ]
  },
  {
   "cell_type": "code",
   "execution_count": 348,
   "id": "30d285e3-24b2-4ed8-892c-fec550993c68",
   "metadata": {},
   "outputs": [],
   "source": [
    "my_net = CatNet()"
   ]
  },
  {
   "cell_type": "code",
   "execution_count": 349,
   "id": "04431a0a-83f3-4b87-8bd5-fe0414ae5199",
   "metadata": {
    "tags": []
   },
   "outputs": [],
   "source": [
    "#list(my_net.parameters())"
   ]
  },
  {
   "cell_type": "code",
   "execution_count": 350,
   "id": "a47fdbac-a340-4de8-84f3-4e4e1ef647e7",
   "metadata": {},
   "outputs": [],
   "source": [
    "loss = torch.nn.CrossEntropyLoss()\n",
    "optimizer = torch.optim.Adam(my_net.parameters())"
   ]
  },
  {
   "cell_type": "code",
   "execution_count": 351,
   "id": "fe0501bf-ff6e-420d-aa1d-7f8ea80f6442",
   "metadata": {},
   "outputs": [
    {
     "data": {
      "text/plain": [
       "CatNet(\n",
       "  (conv1): Conv2d(3, 6, kernel_size=(5, 5), stride=(1, 1))\n",
       "  (conv2): Conv2d(6, 16, kernel_size=(5, 5), stride=(1, 1))\n",
       "  (flat): Flatten(start_dim=1, end_dim=-1)\n",
       "  (d1): Linear(in_features=200704, out_features=16, bias=True)\n",
       "  (act): LeakyReLU(negative_slope=0.01)\n",
       "  (d2): Linear(in_features=16, out_features=10, bias=True)\n",
       "  (d3): Linear(in_features=10, out_features=2, bias=True)\n",
       ")"
      ]
     },
     "execution_count": 351,
     "metadata": {},
     "output_type": "execute_result"
    }
   ],
   "source": [
    "my_net.train(mode = True) # перевод в режим обучения"
   ]
  },
  {
   "cell_type": "markdown",
   "id": "6bcedaab-ea7c-46f1-b80c-eaee1d257a61",
   "metadata": {},
   "source": [
    "Функция для обучения. Смешивать данные не стал."
   ]
  },
  {
   "cell_type": "code",
   "execution_count": 357,
   "id": "6c090877-2aed-47ba-8eef-ca5668856f60",
   "metadata": {},
   "outputs": [],
   "source": [
    "def fit_model(X_train, y_train, X_val = None, y_val = None, epochs = 10, batch_size = 16, verbose = 0):\n",
    "    X_train = X_train.to(device)\n",
    "    y_train = y_train.to(device)\n",
    "    if ((X_val != None) and (y_val != None) ):\n",
    "        X_val = X_val.to(device)\n",
    "        y_val = y_val.to(device)\n",
    "    loss_train = []\n",
    "    loss_val = []\n",
    "    for _ in zip(tqdm(range(epochs)), range(epochs)):\n",
    "        for idx in range(0, len(X_train), batch_size):\n",
    "            optimizer.zero_grad()\n",
    "            X_batch = X_train[idx:idx+batch_size]\n",
    "            y_batch = y_train[idx:idx+batch_size]\n",
    "            #print(X_batch.shape, y_batch.shape)\n",
    "            predictions = my_net.forward(X_batch)\n",
    "            loss_ = loss(y_batch, predictions)\n",
    "            loss_.backward()\n",
    "            optimizer.step()\n",
    "        \n",
    "        train_preds = my_net.forward(X_train)\n",
    "        temp_loss_train = loss(train_preds, y_train)\n",
    "        loss_train.append( temp_loss_train )\n",
    "        if ( (X_val != None) and (y_val != None) ):\n",
    "            val_preds = my_net.forward(X_val)\n",
    "            loss_val.append(loss(val_preds, y_val))\n",
    "        \n",
    "        if (verbose == 1):\n",
    "            #clear_output()\n",
    "            print (temp_loss_train)\n",
    "            \n",
    "    if (len(loss_val)>0):\n",
    "        return loss_train, loss_val\n",
    "    else: \n",
    "        return loss_train"
   ]
  },
  {
   "cell_type": "code",
   "execution_count": 358,
   "id": "2552473a-75d2-4d11-8db9-a25a3141617e",
   "metadata": {
    "tags": []
   },
   "outputs": [],
   "source": [
    "X_train, y_train = torch.Tensor(X_train), torch.Tensor(y_train)"
   ]
  },
  {
   "cell_type": "code",
   "execution_count": 359,
   "id": "d79ccf1f-46c9-4cc7-8b3d-e9578a4cf780",
   "metadata": {},
   "outputs": [
    {
     "data": {
      "text/plain": [
       "(torch.Size([17500, 120, 120, 3]), torch.Size([17500, 2]))"
      ]
     },
     "execution_count": 359,
     "metadata": {},
     "output_type": "execute_result"
    }
   ],
   "source": [
    "X_train.shape, y_train.shape"
   ]
  },
  {
   "cell_type": "code",
   "execution_count": 360,
   "id": "8e86f177-4e18-4305-881e-dab17a1dfa9f",
   "metadata": {},
   "outputs": [],
   "source": [
    "X_train_t = X_train.reshape(X_train.shape[0], 3, X_train.shape[1], X_train.shape[2])\n",
    "# shape = (3, 120, 120)"
   ]
  },
  {
   "cell_type": "code",
   "execution_count": 361,
   "id": "01a00623-6f40-4b25-ba08-f65f68e7a502",
   "metadata": {
    "collapsed": true,
    "jupyter": {
     "outputs_hidden": true
    },
    "tags": []
   },
   "outputs": [
    {
     "name": "stderr",
     "output_type": "stream",
     "text": [
      "  0%|                                                   | 0/10 [00:01<?, ?it/s]\n"
     ]
    },
    {
     "ename": "RuntimeError",
     "evalue": "[enforce fail at ..\\c10\\core\\CPUAllocator.cpp:76] data. DefaultCPUAllocator: not enough memory: you tried to allocate 215296000 bytes.",
     "output_type": "error",
     "traceback": [
      "\u001b[1;31m---------------------------------------------------------------------------\u001b[0m",
      "\u001b[1;31mRuntimeError\u001b[0m                              Traceback (most recent call last)",
      "\u001b[1;32m<ipython-input-361-7ebb4a1a0e46>\u001b[0m in \u001b[0;36m<module>\u001b[1;34m\u001b[0m\n\u001b[1;32m----> 1\u001b[1;33m \u001b[0macc_tr\u001b[0m\u001b[1;33m,\u001b[0m \u001b[0macc_val\u001b[0m \u001b[1;33m=\u001b[0m \u001b[0mfit_model\u001b[0m\u001b[1;33m(\u001b[0m\u001b[0mX_train_t\u001b[0m\u001b[1;33m[\u001b[0m\u001b[1;33m:\u001b[0m\u001b[1;36m500\u001b[0m\u001b[1;33m]\u001b[0m\u001b[1;33m,\u001b[0m \u001b[0my_train\u001b[0m\u001b[1;33m[\u001b[0m\u001b[1;33m:\u001b[0m\u001b[1;36m500\u001b[0m\u001b[1;33m]\u001b[0m\u001b[1;33m,\u001b[0m \u001b[0mX_val\u001b[0m \u001b[1;33m=\u001b[0m \u001b[0mX_train_t\u001b[0m\u001b[1;33m[\u001b[0m\u001b[1;36m500\u001b[0m\u001b[1;33m:\u001b[0m\u001b[1;36m550\u001b[0m\u001b[1;33m]\u001b[0m\u001b[1;33m,\u001b[0m \u001b[0my_val\u001b[0m \u001b[1;33m=\u001b[0m \u001b[0my_train\u001b[0m\u001b[1;33m[\u001b[0m\u001b[1;36m500\u001b[0m\u001b[1;33m:\u001b[0m\u001b[1;36m550\u001b[0m\u001b[1;33m]\u001b[0m\u001b[1;33m,\u001b[0m \u001b[0mverbose\u001b[0m \u001b[1;33m=\u001b[0m \u001b[1;36m1\u001b[0m\u001b[1;33m)\u001b[0m\u001b[1;33m\u001b[0m\u001b[1;33m\u001b[0m\u001b[0m\n\u001b[0m",
      "\u001b[1;32m<ipython-input-357-4eadabdbb70e>\u001b[0m in \u001b[0;36mfit_model\u001b[1;34m(X_train, y_train, X_val, y_val, epochs, batch_size, verbose)\u001b[0m\n\u001b[0;32m     13\u001b[0m             \u001b[0moptimizer\u001b[0m\u001b[1;33m.\u001b[0m\u001b[0mstep\u001b[0m\u001b[1;33m(\u001b[0m\u001b[1;33m)\u001b[0m\u001b[1;33m\u001b[0m\u001b[1;33m\u001b[0m\u001b[0m\n\u001b[0;32m     14\u001b[0m \u001b[1;33m\u001b[0m\u001b[0m\n\u001b[1;32m---> 15\u001b[1;33m         \u001b[0mtrain_preds\u001b[0m \u001b[1;33m=\u001b[0m \u001b[0mmy_net\u001b[0m\u001b[1;33m.\u001b[0m\u001b[0mforward\u001b[0m\u001b[1;33m(\u001b[0m\u001b[0mX_train\u001b[0m\u001b[1;33m)\u001b[0m\u001b[1;33m\u001b[0m\u001b[1;33m\u001b[0m\u001b[0m\n\u001b[0m\u001b[0;32m     16\u001b[0m         \u001b[0mtemp_acc_train\u001b[0m \u001b[1;33m=\u001b[0m \u001b[0mloss\u001b[0m\u001b[1;33m(\u001b[0m\u001b[0mtrain_preds\u001b[0m\u001b[1;33m,\u001b[0m \u001b[0my_train\u001b[0m\u001b[1;33m)\u001b[0m\u001b[1;33m\u001b[0m\u001b[1;33m\u001b[0m\u001b[0m\n\u001b[0;32m     17\u001b[0m         \u001b[0macc_train\u001b[0m\u001b[1;33m.\u001b[0m\u001b[0mappend\u001b[0m\u001b[1;33m(\u001b[0m \u001b[0mtemp_acc_train\u001b[0m \u001b[1;33m)\u001b[0m\u001b[1;33m\u001b[0m\u001b[1;33m\u001b[0m\u001b[0m\n",
      "\u001b[1;32m<ipython-input-347-9d3d3473c9bb>\u001b[0m in \u001b[0;36mforward\u001b[1;34m(self, x)\u001b[0m\n\u001b[0;32m     19\u001b[0m \u001b[1;33m\u001b[0m\u001b[0m\n\u001b[0;32m     20\u001b[0m     \u001b[1;32mdef\u001b[0m \u001b[0mforward\u001b[0m\u001b[1;33m(\u001b[0m\u001b[0mself\u001b[0m\u001b[1;33m,\u001b[0m \u001b[0mx\u001b[0m\u001b[1;33m)\u001b[0m\u001b[1;33m:\u001b[0m\u001b[1;33m\u001b[0m\u001b[1;33m\u001b[0m\u001b[0m\n\u001b[1;32m---> 21\u001b[1;33m         \u001b[0mx\u001b[0m \u001b[1;33m=\u001b[0m \u001b[0mself\u001b[0m\u001b[1;33m.\u001b[0m\u001b[0mconv1\u001b[0m\u001b[1;33m(\u001b[0m\u001b[0mx\u001b[0m\u001b[1;33m)\u001b[0m\u001b[1;33m\u001b[0m\u001b[1;33m\u001b[0m\u001b[0m\n\u001b[0m\u001b[0;32m     22\u001b[0m         \u001b[0mx\u001b[0m \u001b[1;33m=\u001b[0m \u001b[0mself\u001b[0m\u001b[1;33m.\u001b[0m\u001b[0mconv2\u001b[0m\u001b[1;33m(\u001b[0m\u001b[0mx\u001b[0m\u001b[1;33m)\u001b[0m\u001b[1;33m\u001b[0m\u001b[1;33m\u001b[0m\u001b[0m\n\u001b[0;32m     23\u001b[0m         \u001b[1;31m#x = self.pool(x)\u001b[0m\u001b[1;33m\u001b[0m\u001b[1;33m\u001b[0m\u001b[1;33m\u001b[0m\u001b[0m\n",
      "\u001b[1;32mX:\\Users\\jeka_\\Anaconda3\\envs\\py36\\lib\\site-packages\\torch\\nn\\modules\\module.py\u001b[0m in \u001b[0;36m_call_impl\u001b[1;34m(self, *input, **kwargs)\u001b[0m\n\u001b[0;32m   1100\u001b[0m         if not (self._backward_hooks or self._forward_hooks or self._forward_pre_hooks or _global_backward_hooks\n\u001b[0;32m   1101\u001b[0m                 or _global_forward_hooks or _global_forward_pre_hooks):\n\u001b[1;32m-> 1102\u001b[1;33m             \u001b[1;32mreturn\u001b[0m \u001b[0mforward_call\u001b[0m\u001b[1;33m(\u001b[0m\u001b[1;33m*\u001b[0m\u001b[0minput\u001b[0m\u001b[1;33m,\u001b[0m \u001b[1;33m**\u001b[0m\u001b[0mkwargs\u001b[0m\u001b[1;33m)\u001b[0m\u001b[1;33m\u001b[0m\u001b[1;33m\u001b[0m\u001b[0m\n\u001b[0m\u001b[0;32m   1103\u001b[0m         \u001b[1;31m# Do not call functions when jit is used\u001b[0m\u001b[1;33m\u001b[0m\u001b[1;33m\u001b[0m\u001b[1;33m\u001b[0m\u001b[0m\n\u001b[0;32m   1104\u001b[0m         \u001b[0mfull_backward_hooks\u001b[0m\u001b[1;33m,\u001b[0m \u001b[0mnon_full_backward_hooks\u001b[0m \u001b[1;33m=\u001b[0m \u001b[1;33m[\u001b[0m\u001b[1;33m]\u001b[0m\u001b[1;33m,\u001b[0m \u001b[1;33m[\u001b[0m\u001b[1;33m]\u001b[0m\u001b[1;33m\u001b[0m\u001b[1;33m\u001b[0m\u001b[0m\n",
      "\u001b[1;32mX:\\Users\\jeka_\\Anaconda3\\envs\\py36\\lib\\site-packages\\torch\\nn\\modules\\conv.py\u001b[0m in \u001b[0;36mforward\u001b[1;34m(self, input)\u001b[0m\n\u001b[0;32m    444\u001b[0m \u001b[1;33m\u001b[0m\u001b[0m\n\u001b[0;32m    445\u001b[0m     \u001b[1;32mdef\u001b[0m \u001b[0mforward\u001b[0m\u001b[1;33m(\u001b[0m\u001b[0mself\u001b[0m\u001b[1;33m,\u001b[0m \u001b[0minput\u001b[0m\u001b[1;33m:\u001b[0m \u001b[0mTensor\u001b[0m\u001b[1;33m)\u001b[0m \u001b[1;33m->\u001b[0m \u001b[0mTensor\u001b[0m\u001b[1;33m:\u001b[0m\u001b[1;33m\u001b[0m\u001b[1;33m\u001b[0m\u001b[0m\n\u001b[1;32m--> 446\u001b[1;33m         \u001b[1;32mreturn\u001b[0m \u001b[0mself\u001b[0m\u001b[1;33m.\u001b[0m\u001b[0m_conv_forward\u001b[0m\u001b[1;33m(\u001b[0m\u001b[0minput\u001b[0m\u001b[1;33m,\u001b[0m \u001b[0mself\u001b[0m\u001b[1;33m.\u001b[0m\u001b[0mweight\u001b[0m\u001b[1;33m,\u001b[0m \u001b[0mself\u001b[0m\u001b[1;33m.\u001b[0m\u001b[0mbias\u001b[0m\u001b[1;33m)\u001b[0m\u001b[1;33m\u001b[0m\u001b[1;33m\u001b[0m\u001b[0m\n\u001b[0m\u001b[0;32m    447\u001b[0m \u001b[1;33m\u001b[0m\u001b[0m\n\u001b[0;32m    448\u001b[0m \u001b[1;32mclass\u001b[0m \u001b[0mConv3d\u001b[0m\u001b[1;33m(\u001b[0m\u001b[0m_ConvNd\u001b[0m\u001b[1;33m)\u001b[0m\u001b[1;33m:\u001b[0m\u001b[1;33m\u001b[0m\u001b[1;33m\u001b[0m\u001b[0m\n",
      "\u001b[1;32mX:\\Users\\jeka_\\Anaconda3\\envs\\py36\\lib\\site-packages\\torch\\nn\\modules\\conv.py\u001b[0m in \u001b[0;36m_conv_forward\u001b[1;34m(self, input, weight, bias)\u001b[0m\n\u001b[0;32m    441\u001b[0m                             _pair(0), self.dilation, self.groups)\n\u001b[0;32m    442\u001b[0m         return F.conv2d(input, weight, bias, self.stride,\n\u001b[1;32m--> 443\u001b[1;33m                         self.padding, self.dilation, self.groups)\n\u001b[0m\u001b[0;32m    444\u001b[0m \u001b[1;33m\u001b[0m\u001b[0m\n\u001b[0;32m    445\u001b[0m     \u001b[1;32mdef\u001b[0m \u001b[0mforward\u001b[0m\u001b[1;33m(\u001b[0m\u001b[0mself\u001b[0m\u001b[1;33m,\u001b[0m \u001b[0minput\u001b[0m\u001b[1;33m:\u001b[0m \u001b[0mTensor\u001b[0m\u001b[1;33m)\u001b[0m \u001b[1;33m->\u001b[0m \u001b[0mTensor\u001b[0m\u001b[1;33m:\u001b[0m\u001b[1;33m\u001b[0m\u001b[1;33m\u001b[0m\u001b[0m\n",
      "\u001b[1;31mRuntimeError\u001b[0m: [enforce fail at ..\\c10\\core\\CPUAllocator.cpp:76] data. DefaultCPUAllocator: not enough memory: you tried to allocate 215296000 bytes."
     ]
    }
   ],
   "source": [
    "acc_tr, acc_val = fit_model(X_train_t[:500], y_train[:500], X_val = X_train_t[500:550], y_val = y_train[500:550], verbose = 1)"
   ]
  },
  {
   "cell_type": "code",
   "execution_count": 362,
   "id": "46a2f44c-ccd0-4474-8869-44de62b66df8",
   "metadata": {
    "collapsed": true,
    "jupyter": {
     "outputs_hidden": true
    },
    "tags": []
   },
   "outputs": [
    {
     "ename": "NameError",
     "evalue": "name 'acc_tr' is not defined",
     "output_type": "error",
     "traceback": [
      "\u001b[1;31m---------------------------------------------------------------------------\u001b[0m",
      "\u001b[1;31mNameError\u001b[0m                                 Traceback (most recent call last)",
      "\u001b[1;32m<ipython-input-362-2600107c08e2>\u001b[0m in \u001b[0;36m<module>\u001b[1;34m\u001b[0m\n\u001b[1;32m----> 1\u001b[1;33m \u001b[0mplt\u001b[0m\u001b[1;33m.\u001b[0m\u001b[0mplot\u001b[0m\u001b[1;33m(\u001b[0m\u001b[0macc_tr\u001b[0m\u001b[1;33m)\u001b[0m\u001b[1;33m\u001b[0m\u001b[1;33m\u001b[0m\u001b[0m\n\u001b[0m\u001b[0;32m      2\u001b[0m \u001b[0mplt\u001b[0m\u001b[1;33m.\u001b[0m\u001b[0mplot\u001b[0m\u001b[1;33m(\u001b[0m\u001b[0macc_val\u001b[0m\u001b[1;33m)\u001b[0m\u001b[1;33m\u001b[0m\u001b[1;33m\u001b[0m\u001b[0m\n\u001b[0;32m      3\u001b[0m \u001b[0mplt\u001b[0m\u001b[1;33m.\u001b[0m\u001b[0mlegend\u001b[0m\u001b[1;33m(\u001b[0m\u001b[1;33m[\u001b[0m\u001b[1;34m'train'\u001b[0m\u001b[1;33m,\u001b[0m\u001b[1;34m'val'\u001b[0m\u001b[1;33m]\u001b[0m\u001b[1;33m)\u001b[0m\u001b[1;33m\u001b[0m\u001b[1;33m\u001b[0m\u001b[0m\n",
      "\u001b[1;31mNameError\u001b[0m: name 'acc_tr' is not defined"
     ]
    }
   ],
   "source": [
    "plt.plot(acc_tr)\n",
    "plt.plot(acc_val)\n",
    "plt.legend(['train','val'])"
   ]
  },
  {
   "cell_type": "code",
   "execution_count": null,
   "id": "c8391303-0525-4d12-9f8e-991d34f54831",
   "metadata": {},
   "outputs": [],
   "source": []
  },
  {
   "cell_type": "code",
   "execution_count": null,
   "id": "af547a1a-256f-423d-8742-e2ee8456dee2",
   "metadata": {},
   "outputs": [],
   "source": []
  },
  {
   "cell_type": "code",
   "execution_count": null,
   "id": "04db5593-b108-4158-97c8-ea433258fd09",
   "metadata": {},
   "outputs": [],
   "source": []
  }
 ],
 "metadata": {
  "kernelspec": {
   "display_name": "Python 3",
   "language": "python",
   "name": "python3"
  },
  "language_info": {
   "codemirror_mode": {
    "name": "ipython",
    "version": 3
   },
   "file_extension": ".py",
   "mimetype": "text/x-python",
   "name": "python",
   "nbconvert_exporter": "python",
   "pygments_lexer": "ipython3",
   "version": "3.6.13"
  }
 },
 "nbformat": 4,
 "nbformat_minor": 5
}
